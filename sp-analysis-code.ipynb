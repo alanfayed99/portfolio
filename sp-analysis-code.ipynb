{
 "cells": [
  {
   "cell_type": "code",
   "execution_count": 1,
   "metadata": {},
   "outputs": [],
   "source": [
    "import pyspark"
   ]
  },
  {
   "cell_type": "code",
   "execution_count": 2,
   "metadata": {},
   "outputs": [],
   "source": [
    "from pyspark.sql import SparkSession"
   ]
  },
  {
   "cell_type": "code",
   "execution_count": 3,
   "metadata": {},
   "outputs": [
    {
     "name": "stderr",
     "output_type": "stream",
     "text": [
      "Setting default log level to \"WARN\".\n",
      "To adjust logging level use sc.setLogLevel(newLevel). For SparkR, use setLogLevel(newLevel).\n",
      "24/04/25 21:26:36 WARN NativeCodeLoader: Unable to load native-hadoop library for your platform... using builtin-java classes where applicable\n",
      "24/04/25 21:26:39 WARN Utils: Service 'SparkUI' could not bind on port 4040. Attempting port 4041.\n"
     ]
    }
   ],
   "source": [
    "spark = SparkSession.builder.appName('sp').getOrCreate()"
   ]
  },
  {
   "cell_type": "code",
   "execution_count": 4,
   "metadata": {},
   "outputs": [
    {
     "name": "stderr",
     "output_type": "stream",
     "text": [
      "                                                                                \r"
     ]
    }
   ],
   "source": [
    "df = spark.read.options(delimiter=';').csv('/Users/alanfayed/Library/CloudStorage/OneDrive-Personal/Documents/da_learning/Student Performance UCI - Project/student+performance/student/student-mat.csv', inferSchema=True,header=True)"
   ]
  },
  {
   "cell_type": "code",
   "execution_count": 5,
   "metadata": {},
   "outputs": [
    {
     "name": "stdout",
     "output_type": "stream",
     "text": [
      "root\n",
      " |-- school: string (nullable = true)\n",
      " |-- sex: string (nullable = true)\n",
      " |-- age: integer (nullable = true)\n",
      " |-- address: string (nullable = true)\n",
      " |-- famsize: string (nullable = true)\n",
      " |-- Pstatus: string (nullable = true)\n",
      " |-- Medu: integer (nullable = true)\n",
      " |-- Fedu: integer (nullable = true)\n",
      " |-- Mjob: string (nullable = true)\n",
      " |-- Fjob: string (nullable = true)\n",
      " |-- reason: string (nullable = true)\n",
      " |-- guardian: string (nullable = true)\n",
      " |-- traveltime: integer (nullable = true)\n",
      " |-- studytime: integer (nullable = true)\n",
      " |-- failures: integer (nullable = true)\n",
      " |-- schoolsup: string (nullable = true)\n",
      " |-- famsup: string (nullable = true)\n",
      " |-- paid: string (nullable = true)\n",
      " |-- activities: string (nullable = true)\n",
      " |-- nursery: string (nullable = true)\n",
      " |-- higher: string (nullable = true)\n",
      " |-- internet: string (nullable = true)\n",
      " |-- romantic: string (nullable = true)\n",
      " |-- famrel: integer (nullable = true)\n",
      " |-- freetime: integer (nullable = true)\n",
      " |-- goout: integer (nullable = true)\n",
      " |-- Dalc: integer (nullable = true)\n",
      " |-- Walc: integer (nullable = true)\n",
      " |-- health: integer (nullable = true)\n",
      " |-- absences: integer (nullable = true)\n",
      " |-- G1: integer (nullable = true)\n",
      " |-- G2: integer (nullable = true)\n",
      " |-- G3: integer (nullable = true)\n",
      "\n"
     ]
    }
   ],
   "source": [
    "df.printSchema()"
   ]
  },
  {
   "cell_type": "code",
   "execution_count": 6,
   "metadata": {},
   "outputs": [
    {
     "data": {
      "text/plain": [
       "['school',\n",
       " 'sex',\n",
       " 'age',\n",
       " 'address',\n",
       " 'famsize',\n",
       " 'Pstatus',\n",
       " 'Medu',\n",
       " 'Fedu',\n",
       " 'Mjob',\n",
       " 'Fjob',\n",
       " 'reason',\n",
       " 'guardian',\n",
       " 'traveltime',\n",
       " 'studytime',\n",
       " 'failures',\n",
       " 'schoolsup',\n",
       " 'famsup',\n",
       " 'paid',\n",
       " 'activities',\n",
       " 'nursery',\n",
       " 'higher',\n",
       " 'internet',\n",
       " 'romantic',\n",
       " 'famrel',\n",
       " 'freetime',\n",
       " 'goout',\n",
       " 'Dalc',\n",
       " 'Walc',\n",
       " 'health',\n",
       " 'absences',\n",
       " 'G1',\n",
       " 'G2',\n",
       " 'G3']"
      ]
     },
     "execution_count": 6,
     "metadata": {},
     "output_type": "execute_result"
    }
   ],
   "source": [
    "df.columns"
   ]
  },
  {
   "cell_type": "code",
   "execution_count": 7,
   "metadata": {},
   "outputs": [
    {
     "name": "stderr",
     "output_type": "stream",
     "text": [
      "24/04/25 21:26:54 WARN SparkStringUtils: Truncated the string representation of a plan since it was too large. This behavior can be adjusted by setting 'spark.sql.debug.maxToStringFields'.\n",
      "[Stage 4:>                                                          (0 + 1) / 1]\r"
     ]
    },
    {
     "name": "stdout",
     "output_type": "stream",
     "text": [
      "+-------+------+----+------------------+-------+-------+-------+------------------+------------------+-------+-------+----------+--------+------------------+------------------+------------------+---------+------+----+----------+-------+------+--------+--------+------------------+------------------+------------------+------------------+------------------+------------------+-----------------+------------------+------------------+------------------+\n",
      "|summary|school| sex|               age|address|famsize|Pstatus|              Medu|              Fedu|   Mjob|   Fjob|    reason|guardian|        traveltime|         studytime|          failures|schoolsup|famsup|paid|activities|nursery|higher|internet|romantic|            famrel|          freetime|             goout|              Dalc|              Walc|            health|         absences|                G1|                G2|                G3|\n",
      "+-------+------+----+------------------+-------+-------+-------+------------------+------------------+-------+-------+----------+--------+------------------+------------------+------------------+---------+------+----+----------+-------+------+--------+--------+------------------+------------------+------------------+------------------+------------------+------------------+-----------------+------------------+------------------+------------------+\n",
      "|  count|   395| 395|               395|    395|    395|    395|               395|               395|    395|    395|       395|     395|               395|               395|               395|      395|   395| 395|       395|    395|   395|     395|     395|               395|               395|               395|               395|               395|               395|              395|               395|               395|               395|\n",
      "|   mean|  NULL|NULL|16.696202531645568|   NULL|   NULL|   NULL| 2.749367088607595|2.5215189873417723|   NULL|   NULL|      NULL|    NULL|1.4481012658227848|2.0354430379746837|0.3341772151898734|     NULL|  NULL|NULL|      NULL|   NULL|  NULL|    NULL|    NULL|3.9443037974683546|3.2354430379746835| 3.108860759493671| 1.481012658227848|2.2911392405063293|3.5544303797468353|5.708860759493671| 10.90886075949367|10.713924050632912|10.415189873417722|\n",
      "| stddev|  NULL|NULL|1.2760427246056265|   NULL|   NULL|   NULL|1.0947351414285371|1.0882005458269433|   NULL|   NULL|      NULL|    NULL|0.6975047549086822|0.8392403464185556|0.7436509736062509|     NULL|  NULL|NULL|      NULL|   NULL|  NULL|    NULL|    NULL|0.8966586076885046|0.9988620396657203|1.1132781740183422|0.8907414280909668|1.2878965924510932|1.3903033913095773|8.003095687108182|3.3191946715076686|3.7615046595560306|4.5814426109978434|\n",
      "|    min|    GP|   F|                15|      R|    GT3|      A|                 0|                 0|at_home|at_home|    course|  father|                 1|                 1|                 0|       no|    no|  no|        no|     no|    no|      no|      no|                 1|                 1|                 1|                 1|                 1|                 1|                0|                 3|                 0|                 0|\n",
      "|    max|    MS|   M|                22|      U|    LE3|      T|                 4|                 4|teacher|teacher|reputation|   other|                 4|                 4|                 3|      yes|   yes| yes|       yes|    yes|   yes|     yes|     yes|                 5|                 5|                 5|                 5|                 5|                 5|               75|                19|                19|                20|\n",
      "+-------+------+----+------------------+-------+-------+-------+------------------+------------------+-------+-------+----------+--------+------------------+------------------+------------------+---------+------+----+----------+-------+------+--------+--------+------------------+------------------+------------------+------------------+------------------+------------------+-----------------+------------------+------------------+------------------+\n",
      "\n"
     ]
    },
    {
     "name": "stderr",
     "output_type": "stream",
     "text": [
      "                                                                                \r"
     ]
    }
   ],
   "source": [
    "df.describe().show()"
   ]
  },
  {
   "cell_type": "code",
   "execution_count": 8,
   "metadata": {},
   "outputs": [
    {
     "name": "stdout",
     "output_type": "stream",
     "text": [
      "+------+---+---+-------+-------+-------+----+----+--------+--------+----------+--------+----------+---------+--------+---------+------+----+----------+-------+------+--------+--------+------+--------+-----+----+----+------+--------+---+---+---+\n",
      "|school|sex|age|address|famsize|Pstatus|Medu|Fedu|    Mjob|    Fjob|    reason|guardian|traveltime|studytime|failures|schoolsup|famsup|paid|activities|nursery|higher|internet|romantic|famrel|freetime|goout|Dalc|Walc|health|absences| G1| G2| G3|\n",
      "+------+---+---+-------+-------+-------+----+----+--------+--------+----------+--------+----------+---------+--------+---------+------+----+----------+-------+------+--------+--------+------+--------+-----+----+----+------+--------+---+---+---+\n",
      "|    GP|  F| 18|      U|    GT3|      A|   4|   4| at_home| teacher|    course|  mother|         2|        2|       0|      yes|    no|  no|        no|    yes|   yes|      no|      no|     4|       3|    4|   1|   1|     3|       6|  5|  6|  6|\n",
      "|    GP|  F| 17|      U|    GT3|      T|   1|   1| at_home|   other|    course|  father|         1|        2|       0|       no|   yes|  no|        no|     no|   yes|     yes|      no|     5|       3|    3|   1|   1|     3|       4|  5|  5|  6|\n",
      "|    GP|  F| 15|      U|    LE3|      T|   1|   1| at_home|   other|     other|  mother|         1|        2|       3|      yes|    no| yes|        no|    yes|   yes|     yes|      no|     4|       3|    2|   2|   3|     3|      10|  7|  8| 10|\n",
      "|    GP|  F| 15|      U|    GT3|      T|   4|   2|  health|services|      home|  mother|         1|        3|       0|       no|   yes| yes|       yes|    yes|   yes|     yes|     yes|     3|       2|    2|   1|   1|     5|       2| 15| 14| 15|\n",
      "|    GP|  F| 16|      U|    GT3|      T|   3|   3|   other|   other|      home|  father|         1|        2|       0|       no|   yes| yes|        no|    yes|   yes|      no|      no|     4|       3|    2|   1|   2|     5|       4|  6| 10| 10|\n",
      "|    GP|  M| 16|      U|    LE3|      T|   4|   3|services|   other|reputation|  mother|         1|        2|       0|       no|   yes| yes|       yes|    yes|   yes|     yes|      no|     5|       4|    2|   1|   2|     5|      10| 15| 15| 15|\n",
      "|    GP|  M| 16|      U|    LE3|      T|   2|   2|   other|   other|      home|  mother|         1|        2|       0|       no|    no|  no|        no|    yes|   yes|     yes|      no|     4|       4|    4|   1|   1|     3|       0| 12| 12| 11|\n",
      "|    GP|  F| 17|      U|    GT3|      A|   4|   4|   other| teacher|      home|  mother|         2|        2|       0|      yes|   yes|  no|        no|    yes|   yes|      no|      no|     4|       1|    4|   1|   1|     1|       6|  6|  5|  6|\n",
      "|    GP|  M| 15|      U|    LE3|      A|   3|   2|services|   other|      home|  mother|         1|        2|       0|       no|   yes| yes|        no|    yes|   yes|     yes|      no|     4|       2|    2|   1|   1|     1|       0| 16| 18| 19|\n",
      "|    GP|  M| 15|      U|    GT3|      T|   3|   4|   other|   other|      home|  mother|         1|        2|       0|       no|   yes| yes|       yes|    yes|   yes|     yes|      no|     5|       5|    1|   1|   1|     5|       0| 14| 15| 15|\n",
      "|    GP|  F| 15|      U|    GT3|      T|   4|   4| teacher|  health|reputation|  mother|         1|        2|       0|       no|   yes| yes|        no|    yes|   yes|     yes|      no|     3|       3|    3|   1|   2|     2|       0| 10|  8|  9|\n",
      "|    GP|  F| 15|      U|    GT3|      T|   2|   1|services|   other|reputation|  father|         3|        3|       0|       no|   yes|  no|       yes|    yes|   yes|     yes|      no|     5|       2|    2|   1|   1|     4|       4| 10| 12| 12|\n",
      "|    GP|  M| 15|      U|    LE3|      T|   4|   4|  health|services|    course|  father|         1|        1|       0|       no|   yes| yes|       yes|    yes|   yes|     yes|      no|     4|       3|    3|   1|   3|     5|       2| 14| 14| 14|\n",
      "|    GP|  M| 15|      U|    GT3|      T|   4|   3| teacher|   other|    course|  mother|         2|        2|       0|       no|   yes| yes|        no|    yes|   yes|     yes|      no|     5|       4|    3|   1|   2|     3|       2| 10| 10| 11|\n",
      "|    GP|  M| 15|      U|    GT3|      A|   2|   2|   other|   other|      home|   other|         1|        3|       0|       no|   yes|  no|        no|    yes|   yes|     yes|     yes|     4|       5|    2|   1|   1|     3|       0| 14| 16| 16|\n",
      "|    GP|  F| 16|      U|    GT3|      T|   4|   4|  health|   other|      home|  mother|         1|        1|       0|       no|   yes|  no|        no|    yes|   yes|     yes|      no|     4|       4|    4|   1|   2|     2|       4| 14| 14| 14|\n",
      "|    GP|  F| 16|      U|    GT3|      T|   4|   4|services|services|reputation|  mother|         1|        3|       0|       no|   yes| yes|       yes|    yes|   yes|     yes|      no|     3|       2|    3|   1|   2|     2|       6| 13| 14| 14|\n",
      "|    GP|  F| 16|      U|    GT3|      T|   3|   3|   other|   other|reputation|  mother|         3|        2|       0|      yes|   yes|  no|       yes|    yes|   yes|      no|      no|     5|       3|    2|   1|   1|     4|       4|  8| 10| 10|\n",
      "|    GP|  M| 17|      U|    GT3|      T|   3|   2|services|services|    course|  mother|         1|        1|       3|       no|   yes|  no|       yes|    yes|   yes|     yes|      no|     5|       5|    5|   2|   4|     5|      16|  6|  5|  5|\n",
      "|    GP|  M| 16|      U|    LE3|      T|   4|   3|  health|   other|      home|  father|         1|        1|       0|       no|    no| yes|       yes|    yes|   yes|     yes|      no|     3|       1|    3|   1|   3|     5|       4|  8| 10| 10|\n",
      "+------+---+---+-------+-------+-------+----+----+--------+--------+----------+--------+----------+---------+--------+---------+------+----+----------+-------+------+--------+--------+------+--------+-----+----+----+------+--------+---+---+---+\n",
      "only showing top 20 rows\n",
      "\n"
     ]
    }
   ],
   "source": [
    "df.show()"
   ]
  },
  {
   "cell_type": "code",
   "execution_count": 9,
   "metadata": {},
   "outputs": [
    {
     "name": "stdout",
     "output_type": "stream",
     "text": [
      "33\n"
     ]
    }
   ],
   "source": [
    "print(len(df.columns))"
   ]
  },
  {
   "cell_type": "code",
   "execution_count": 10,
   "metadata": {},
   "outputs": [],
   "source": [
    "from pyspark.sql import functions as F\n",
    "\n",
    "#define columns to calculate mean for\n",
    "mean_cols = ['G1','G2','G3']\n",
    "\n",
    "#define function to calculate mean\n",
    "find_mean =  F.expr('+'.join(mean_cols))/len(mean_cols)\n",
    "\n",
    "#calculate mean across specific columns\n",
    "df_new = df.withColumn('grades_mean', find_mean)"
   ]
  },
  {
   "cell_type": "code",
   "execution_count": 11,
   "metadata": {},
   "outputs": [
    {
     "name": "stdout",
     "output_type": "stream",
     "text": [
      "+------+---+---+-------+-------+-------+----+----+--------+--------+----------+--------+----------+---------+--------+---------+------+----+----------+-------+------+--------+--------+------+--------+-----+----+----+------+--------+---+---+---+------------------+\n",
      "|school|sex|age|address|famsize|Pstatus|Medu|Fedu|    Mjob|    Fjob|    reason|guardian|traveltime|studytime|failures|schoolsup|famsup|paid|activities|nursery|higher|internet|romantic|famrel|freetime|goout|Dalc|Walc|health|absences| G1| G2| G3|       grades_mean|\n",
      "+------+---+---+-------+-------+-------+----+----+--------+--------+----------+--------+----------+---------+--------+---------+------+----+----------+-------+------+--------+--------+------+--------+-----+----+----+------+--------+---+---+---+------------------+\n",
      "|    GP|  F| 18|      U|    GT3|      A|   4|   4| at_home| teacher|    course|  mother|         2|        2|       0|      yes|    no|  no|        no|    yes|   yes|      no|      no|     4|       3|    4|   1|   1|     3|       6|  5|  6|  6| 5.666666666666667|\n",
      "|    GP|  F| 17|      U|    GT3|      T|   1|   1| at_home|   other|    course|  father|         1|        2|       0|       no|   yes|  no|        no|     no|   yes|     yes|      no|     5|       3|    3|   1|   1|     3|       4|  5|  5|  6| 5.333333333333333|\n",
      "|    GP|  F| 15|      U|    LE3|      T|   1|   1| at_home|   other|     other|  mother|         1|        2|       3|      yes|    no| yes|        no|    yes|   yes|     yes|      no|     4|       3|    2|   2|   3|     3|      10|  7|  8| 10| 8.333333333333334|\n",
      "|    GP|  F| 15|      U|    GT3|      T|   4|   2|  health|services|      home|  mother|         1|        3|       0|       no|   yes| yes|       yes|    yes|   yes|     yes|     yes|     3|       2|    2|   1|   1|     5|       2| 15| 14| 15|14.666666666666666|\n",
      "|    GP|  F| 16|      U|    GT3|      T|   3|   3|   other|   other|      home|  father|         1|        2|       0|       no|   yes| yes|        no|    yes|   yes|      no|      no|     4|       3|    2|   1|   2|     5|       4|  6| 10| 10| 8.666666666666666|\n",
      "|    GP|  M| 16|      U|    LE3|      T|   4|   3|services|   other|reputation|  mother|         1|        2|       0|       no|   yes| yes|       yes|    yes|   yes|     yes|      no|     5|       4|    2|   1|   2|     5|      10| 15| 15| 15|              15.0|\n",
      "|    GP|  M| 16|      U|    LE3|      T|   2|   2|   other|   other|      home|  mother|         1|        2|       0|       no|    no|  no|        no|    yes|   yes|     yes|      no|     4|       4|    4|   1|   1|     3|       0| 12| 12| 11|11.666666666666666|\n",
      "|    GP|  F| 17|      U|    GT3|      A|   4|   4|   other| teacher|      home|  mother|         2|        2|       0|      yes|   yes|  no|        no|    yes|   yes|      no|      no|     4|       1|    4|   1|   1|     1|       6|  6|  5|  6| 5.666666666666667|\n",
      "|    GP|  M| 15|      U|    LE3|      A|   3|   2|services|   other|      home|  mother|         1|        2|       0|       no|   yes| yes|        no|    yes|   yes|     yes|      no|     4|       2|    2|   1|   1|     1|       0| 16| 18| 19|17.666666666666668|\n",
      "|    GP|  M| 15|      U|    GT3|      T|   3|   4|   other|   other|      home|  mother|         1|        2|       0|       no|   yes| yes|       yes|    yes|   yes|     yes|      no|     5|       5|    1|   1|   1|     5|       0| 14| 15| 15|14.666666666666666|\n",
      "|    GP|  F| 15|      U|    GT3|      T|   4|   4| teacher|  health|reputation|  mother|         1|        2|       0|       no|   yes| yes|        no|    yes|   yes|     yes|      no|     3|       3|    3|   1|   2|     2|       0| 10|  8|  9|               9.0|\n",
      "|    GP|  F| 15|      U|    GT3|      T|   2|   1|services|   other|reputation|  father|         3|        3|       0|       no|   yes|  no|       yes|    yes|   yes|     yes|      no|     5|       2|    2|   1|   1|     4|       4| 10| 12| 12|11.333333333333334|\n",
      "|    GP|  M| 15|      U|    LE3|      T|   4|   4|  health|services|    course|  father|         1|        1|       0|       no|   yes| yes|       yes|    yes|   yes|     yes|      no|     4|       3|    3|   1|   3|     5|       2| 14| 14| 14|              14.0|\n",
      "|    GP|  M| 15|      U|    GT3|      T|   4|   3| teacher|   other|    course|  mother|         2|        2|       0|       no|   yes| yes|        no|    yes|   yes|     yes|      no|     5|       4|    3|   1|   2|     3|       2| 10| 10| 11|10.333333333333334|\n",
      "|    GP|  M| 15|      U|    GT3|      A|   2|   2|   other|   other|      home|   other|         1|        3|       0|       no|   yes|  no|        no|    yes|   yes|     yes|     yes|     4|       5|    2|   1|   1|     3|       0| 14| 16| 16|15.333333333333334|\n",
      "|    GP|  F| 16|      U|    GT3|      T|   4|   4|  health|   other|      home|  mother|         1|        1|       0|       no|   yes|  no|        no|    yes|   yes|     yes|      no|     4|       4|    4|   1|   2|     2|       4| 14| 14| 14|              14.0|\n",
      "|    GP|  F| 16|      U|    GT3|      T|   4|   4|services|services|reputation|  mother|         1|        3|       0|       no|   yes| yes|       yes|    yes|   yes|     yes|      no|     3|       2|    3|   1|   2|     2|       6| 13| 14| 14|13.666666666666666|\n",
      "|    GP|  F| 16|      U|    GT3|      T|   3|   3|   other|   other|reputation|  mother|         3|        2|       0|      yes|   yes|  no|       yes|    yes|   yes|      no|      no|     5|       3|    2|   1|   1|     4|       4|  8| 10| 10| 9.333333333333334|\n",
      "|    GP|  M| 17|      U|    GT3|      T|   3|   2|services|services|    course|  mother|         1|        1|       3|       no|   yes|  no|       yes|    yes|   yes|     yes|      no|     5|       5|    5|   2|   4|     5|      16|  6|  5|  5| 5.333333333333333|\n",
      "|    GP|  M| 16|      U|    LE3|      T|   4|   3|  health|   other|      home|  father|         1|        1|       0|       no|    no| yes|       yes|    yes|   yes|     yes|      no|     3|       1|    3|   1|   3|     5|       4|  8| 10| 10| 9.333333333333334|\n",
      "+------+---+---+-------+-------+-------+----+----+--------+--------+----------+--------+----------+---------+--------+---------+------+----+----------+-------+------+--------+--------+------+--------+-----+----+----+------+--------+---+---+---+------------------+\n",
      "only showing top 20 rows\n",
      "\n"
     ]
    }
   ],
   "source": [
    "df_new.show()"
   ]
  },
  {
   "cell_type": "code",
   "execution_count": 12,
   "metadata": {},
   "outputs": [],
   "source": [
    "from pyspark.sql.functions import col, when"
   ]
  },
  {
   "cell_type": "code",
   "execution_count": 13,
   "metadata": {},
   "outputs": [],
   "source": [
    "df_new = df_new.withColumn(\"school_num\", when(col(\"school\")=='GP', 1).when(col(\"school\")=='MS', 0).otherwise(99))\n",
    "df_new = df_new.withColumn(\"sex_num\", when(col(\"sex\")=='F', 1).when(col(\"sex\")=='M', 0).otherwise(99))\n",
    "df_new = df_new.withColumn(\"address_num\", when(col(\"address\")=='U', 1).when(col(\"address\")=='R', 0).otherwise(99))\n",
    "df_new = df_new.withColumn(\"famsize_num\", when(col(\"famsize\")=='LE3', 1).when(col(\"famsize\")=='GT3', 0).otherwise(99))\n",
    "df_new = df_new.withColumn(\"Pstatus_num\", when(col(\"Pstatus\")=='T', 1).when(col(\"Pstatus\")=='A', 0).otherwise(99))\n",
    "df_new = df_new.withColumn(\"Mjob_num\", when(col(\"Mjob\")=='teacher', 1).when(col(\"Mjob\")=='health', 2).when(col(\"Mjob\")=='services', 3).when(col(\"Mjob\")=='at_home', 4).otherwise(99))\n",
    "df_new = df_new.withColumn(\"Fjob_num\", when(col(\"Fjob\")=='teacher', 1).when(col(\"Fjob\")=='health', 2).when(col(\"Fjob\")=='services', 3).when(col(\"Fjob\")=='at_home', 4).otherwise(99))\n",
    "df_new = df_new.withColumn(\"reason_num\", when(col(\"reason\")=='home', 1).when(col(\"reason\")=='reputation', 2).when(col(\"reason\")=='course', 3).otherwise(99))\n",
    "df_new = df_new.withColumn(\"guardian_num\", when(col(\"guardian\")=='mother', 1).when(col(\"guardian\")=='father', 2).otherwise(99))\n",
    "df_new = df_new.withColumn(\"schoolsup_num\", when(col(\"schoolsup\")=='yes', 1).when(col(\"schoolsup\")=='no', 0).otherwise(99))\n",
    "df_new = df_new.withColumn(\"famsup_num\", when(col(\"famsup\")=='yes', 1).when(col(\"famsup\")=='no', 0).otherwise(99))\n",
    "df_new = df_new.withColumn(\"paid_num\", when(col(\"paid\")=='yes', 1).when(col(\"paid\")=='no', 0).otherwise(99))\n",
    "df_new = df_new.withColumn(\"activities_num\", when(col(\"activities\")=='yes', 1).when(col(\"activities\")=='no', 0).otherwise(99))\n",
    "df_new = df_new.withColumn(\"nursery_num\", when(col(\"nursery\")=='yes', 1).when(col(\"nursery\")=='no', 0).otherwise(99))\n",
    "df_new = df_new.withColumn(\"higher_num\", when(col(\"higher\")=='yes', 1).when(col(\"higher\")=='no', 0).otherwise(99))\n",
    "df_new = df_new.withColumn(\"internet_num\", when(col(\"internet\")=='yes', 1).when(col(\"internet\")=='no', 0).otherwise(99))\n",
    "df_new = df_new.withColumn(\"romantic_num\", when(col(\"romantic\")=='yes', 1).when(col(\"romantic\")=='no', 0).otherwise(99))"
   ]
  },
  {
   "cell_type": "code",
   "execution_count": 14,
   "metadata": {},
   "outputs": [],
   "source": [
    "from pyspark.ml.linalg import Vectors\n",
    "from pyspark.ml.feature import VectorAssembler"
   ]
  },
  {
   "cell_type": "code",
   "execution_count": 15,
   "metadata": {},
   "outputs": [
    {
     "data": {
      "text/plain": [
       "['school',\n",
       " 'sex',\n",
       " 'age',\n",
       " 'address',\n",
       " 'famsize',\n",
       " 'Pstatus',\n",
       " 'Medu',\n",
       " 'Fedu',\n",
       " 'Mjob',\n",
       " 'Fjob',\n",
       " 'reason',\n",
       " 'guardian',\n",
       " 'traveltime',\n",
       " 'studytime',\n",
       " 'failures',\n",
       " 'schoolsup',\n",
       " 'famsup',\n",
       " 'paid',\n",
       " 'activities',\n",
       " 'nursery',\n",
       " 'higher',\n",
       " 'internet',\n",
       " 'romantic',\n",
       " 'famrel',\n",
       " 'freetime',\n",
       " 'goout',\n",
       " 'Dalc',\n",
       " 'Walc',\n",
       " 'health',\n",
       " 'absences',\n",
       " 'G1',\n",
       " 'G2',\n",
       " 'G3',\n",
       " 'grades_mean',\n",
       " 'school_num',\n",
       " 'sex_num',\n",
       " 'address_num',\n",
       " 'famsize_num',\n",
       " 'Pstatus_num',\n",
       " 'Mjob_num',\n",
       " 'Fjob_num',\n",
       " 'reason_num',\n",
       " 'guardian_num',\n",
       " 'schoolsup_num',\n",
       " 'famsup_num',\n",
       " 'paid_num',\n",
       " 'activities_num',\n",
       " 'nursery_num',\n",
       " 'higher_num',\n",
       " 'internet_num',\n",
       " 'romantic_num']"
      ]
     },
     "execution_count": 15,
     "metadata": {},
     "output_type": "execute_result"
    }
   ],
   "source": [
    "df_new.columns"
   ]
  },
  {
   "cell_type": "code",
   "execution_count": 16,
   "metadata": {},
   "outputs": [],
   "source": [
    "feat_cols = ['school_num',\n",
    " 'address_num',\n",
    " 'Medu',\n",
    " 'Fedu',\n",
    " 'reason_num',\n",
    " 'traveltime',\n",
    " 'studytime',\n",
    " 'failures',\n",
    " 'schoolsup_num',\n",
    " 'famsup_num',\n",
    " 'paid_num',\n",
    " 'activities_num',\n",
    " 'nursery_num',\n",
    " 'higher_num',\n",
    " 'internet_num',\n",
    " 'romantic_num',\n",
    " 'freetime',\n",
    " 'goout',\n",
    " 'Dalc',\n",
    " 'Walc',\n",
    " 'health',\n",
    " 'absences']"
   ]
  },
  {
   "cell_type": "code",
   "execution_count": null,
   "metadata": {},
   "outputs": [],
   "source": []
  },
  {
   "cell_type": "code",
   "execution_count": 17,
   "metadata": {},
   "outputs": [],
   "source": [
    "assembler = VectorAssembler(inputCols=feat_cols,outputCol=\"features\")"
   ]
  },
  {
   "cell_type": "code",
   "execution_count": 18,
   "metadata": {},
   "outputs": [],
   "source": [
    "output = assembler.transform(df_new)"
   ]
  },
  {
   "cell_type": "code",
   "execution_count": 19,
   "metadata": {},
   "outputs": [
    {
     "name": "stdout",
     "output_type": "stream",
     "text": [
      "+------+---+---+-------+-------+-------+----+----+--------+--------+----------+--------+----------+---------+--------+---------+------+----+----------+-------+------+--------+--------+------+--------+-----+----+----+------+--------+---+---+---+------------------+----------+-------+-----------+-----------+-----------+--------+--------+----------+------------+-------------+----------+--------+--------------+-----------+----------+------------+------------+--------------------+\n",
      "|school|sex|age|address|famsize|Pstatus|Medu|Fedu|    Mjob|    Fjob|    reason|guardian|traveltime|studytime|failures|schoolsup|famsup|paid|activities|nursery|higher|internet|romantic|famrel|freetime|goout|Dalc|Walc|health|absences| G1| G2| G3|       grades_mean|school_num|sex_num|address_num|famsize_num|Pstatus_num|Mjob_num|Fjob_num|reason_num|guardian_num|schoolsup_num|famsup_num|paid_num|activities_num|nursery_num|higher_num|internet_num|romantic_num|            features|\n",
      "+------+---+---+-------+-------+-------+----+----+--------+--------+----------+--------+----------+---------+--------+---------+------+----+----------+-------+------+--------+--------+------+--------+-----+----+----+------+--------+---+---+---+------------------+----------+-------+-----------+-----------+-----------+--------+--------+----------+------------+-------------+----------+--------+--------------+-----------+----------+------------+------------+--------------------+\n",
      "|    GP|  F| 18|      U|    GT3|      A|   4|   4| at_home| teacher|    course|  mother|         2|        2|       0|      yes|    no|  no|        no|    yes|   yes|      no|      no|     4|       3|    4|   1|   1|     3|       6|  5|  6|  6| 5.666666666666667|         1|      1|          1|          0|          0|       4|       1|         3|           1|            1|         0|       0|             0|          1|         1|           0|           0|[1.0,1.0,4.0,4.0,...|\n",
      "|    GP|  F| 17|      U|    GT3|      T|   1|   1| at_home|   other|    course|  father|         1|        2|       0|       no|   yes|  no|        no|     no|   yes|     yes|      no|     5|       3|    3|   1|   1|     3|       4|  5|  5|  6| 5.333333333333333|         1|      1|          1|          0|          1|       4|      99|         3|           2|            0|         1|       0|             0|          0|         1|           1|           0|[1.0,1.0,1.0,1.0,...|\n",
      "|    GP|  F| 15|      U|    LE3|      T|   1|   1| at_home|   other|     other|  mother|         1|        2|       3|      yes|    no| yes|        no|    yes|   yes|     yes|      no|     4|       3|    2|   2|   3|     3|      10|  7|  8| 10| 8.333333333333334|         1|      1|          1|          1|          1|       4|      99|        99|           1|            1|         0|       1|             0|          1|         1|           1|           0|[1.0,1.0,1.0,1.0,...|\n",
      "|    GP|  F| 15|      U|    GT3|      T|   4|   2|  health|services|      home|  mother|         1|        3|       0|       no|   yes| yes|       yes|    yes|   yes|     yes|     yes|     3|       2|    2|   1|   1|     5|       2| 15| 14| 15|14.666666666666666|         1|      1|          1|          0|          1|       2|       3|         1|           1|            0|         1|       1|             1|          1|         1|           1|           1|[1.0,1.0,4.0,2.0,...|\n",
      "|    GP|  F| 16|      U|    GT3|      T|   3|   3|   other|   other|      home|  father|         1|        2|       0|       no|   yes| yes|        no|    yes|   yes|      no|      no|     4|       3|    2|   1|   2|     5|       4|  6| 10| 10| 8.666666666666666|         1|      1|          1|          0|          1|      99|      99|         1|           2|            0|         1|       1|             0|          1|         1|           0|           0|[1.0,1.0,3.0,3.0,...|\n",
      "|    GP|  M| 16|      U|    LE3|      T|   4|   3|services|   other|reputation|  mother|         1|        2|       0|       no|   yes| yes|       yes|    yes|   yes|     yes|      no|     5|       4|    2|   1|   2|     5|      10| 15| 15| 15|              15.0|         1|      0|          1|          1|          1|       3|      99|         2|           1|            0|         1|       1|             1|          1|         1|           1|           0|[1.0,1.0,4.0,3.0,...|\n",
      "|    GP|  M| 16|      U|    LE3|      T|   2|   2|   other|   other|      home|  mother|         1|        2|       0|       no|    no|  no|        no|    yes|   yes|     yes|      no|     4|       4|    4|   1|   1|     3|       0| 12| 12| 11|11.666666666666666|         1|      0|          1|          1|          1|      99|      99|         1|           1|            0|         0|       0|             0|          1|         1|           1|           0|[1.0,1.0,2.0,2.0,...|\n",
      "|    GP|  F| 17|      U|    GT3|      A|   4|   4|   other| teacher|      home|  mother|         2|        2|       0|      yes|   yes|  no|        no|    yes|   yes|      no|      no|     4|       1|    4|   1|   1|     1|       6|  6|  5|  6| 5.666666666666667|         1|      1|          1|          0|          0|      99|       1|         1|           1|            1|         1|       0|             0|          1|         1|           0|           0|[1.0,1.0,4.0,4.0,...|\n",
      "|    GP|  M| 15|      U|    LE3|      A|   3|   2|services|   other|      home|  mother|         1|        2|       0|       no|   yes| yes|        no|    yes|   yes|     yes|      no|     4|       2|    2|   1|   1|     1|       0| 16| 18| 19|17.666666666666668|         1|      0|          1|          1|          0|       3|      99|         1|           1|            0|         1|       1|             0|          1|         1|           1|           0|[1.0,1.0,3.0,2.0,...|\n",
      "|    GP|  M| 15|      U|    GT3|      T|   3|   4|   other|   other|      home|  mother|         1|        2|       0|       no|   yes| yes|       yes|    yes|   yes|     yes|      no|     5|       5|    1|   1|   1|     5|       0| 14| 15| 15|14.666666666666666|         1|      0|          1|          0|          1|      99|      99|         1|           1|            0|         1|       1|             1|          1|         1|           1|           0|[1.0,1.0,3.0,4.0,...|\n",
      "|    GP|  F| 15|      U|    GT3|      T|   4|   4| teacher|  health|reputation|  mother|         1|        2|       0|       no|   yes| yes|        no|    yes|   yes|     yes|      no|     3|       3|    3|   1|   2|     2|       0| 10|  8|  9|               9.0|         1|      1|          1|          0|          1|       1|       2|         2|           1|            0|         1|       1|             0|          1|         1|           1|           0|[1.0,1.0,4.0,4.0,...|\n",
      "|    GP|  F| 15|      U|    GT3|      T|   2|   1|services|   other|reputation|  father|         3|        3|       0|       no|   yes|  no|       yes|    yes|   yes|     yes|      no|     5|       2|    2|   1|   1|     4|       4| 10| 12| 12|11.333333333333334|         1|      1|          1|          0|          1|       3|      99|         2|           2|            0|         1|       0|             1|          1|         1|           1|           0|[1.0,1.0,2.0,1.0,...|\n",
      "|    GP|  M| 15|      U|    LE3|      T|   4|   4|  health|services|    course|  father|         1|        1|       0|       no|   yes| yes|       yes|    yes|   yes|     yes|      no|     4|       3|    3|   1|   3|     5|       2| 14| 14| 14|              14.0|         1|      0|          1|          1|          1|       2|       3|         3|           2|            0|         1|       1|             1|          1|         1|           1|           0|[1.0,1.0,4.0,4.0,...|\n",
      "|    GP|  M| 15|      U|    GT3|      T|   4|   3| teacher|   other|    course|  mother|         2|        2|       0|       no|   yes| yes|        no|    yes|   yes|     yes|      no|     5|       4|    3|   1|   2|     3|       2| 10| 10| 11|10.333333333333334|         1|      0|          1|          0|          1|       1|      99|         3|           1|            0|         1|       1|             0|          1|         1|           1|           0|[1.0,1.0,4.0,3.0,...|\n",
      "|    GP|  M| 15|      U|    GT3|      A|   2|   2|   other|   other|      home|   other|         1|        3|       0|       no|   yes|  no|        no|    yes|   yes|     yes|     yes|     4|       5|    2|   1|   1|     3|       0| 14| 16| 16|15.333333333333334|         1|      0|          1|          0|          0|      99|      99|         1|          99|            0|         1|       0|             0|          1|         1|           1|           1|[1.0,1.0,2.0,2.0,...|\n",
      "|    GP|  F| 16|      U|    GT3|      T|   4|   4|  health|   other|      home|  mother|         1|        1|       0|       no|   yes|  no|        no|    yes|   yes|     yes|      no|     4|       4|    4|   1|   2|     2|       4| 14| 14| 14|              14.0|         1|      1|          1|          0|          1|       2|      99|         1|           1|            0|         1|       0|             0|          1|         1|           1|           0|[1.0,1.0,4.0,4.0,...|\n",
      "|    GP|  F| 16|      U|    GT3|      T|   4|   4|services|services|reputation|  mother|         1|        3|       0|       no|   yes| yes|       yes|    yes|   yes|     yes|      no|     3|       2|    3|   1|   2|     2|       6| 13| 14| 14|13.666666666666666|         1|      1|          1|          0|          1|       3|       3|         2|           1|            0|         1|       1|             1|          1|         1|           1|           0|[1.0,1.0,4.0,4.0,...|\n",
      "|    GP|  F| 16|      U|    GT3|      T|   3|   3|   other|   other|reputation|  mother|         3|        2|       0|      yes|   yes|  no|       yes|    yes|   yes|      no|      no|     5|       3|    2|   1|   1|     4|       4|  8| 10| 10| 9.333333333333334|         1|      1|          1|          0|          1|      99|      99|         2|           1|            1|         1|       0|             1|          1|         1|           0|           0|[1.0,1.0,3.0,3.0,...|\n",
      "|    GP|  M| 17|      U|    GT3|      T|   3|   2|services|services|    course|  mother|         1|        1|       3|       no|   yes|  no|       yes|    yes|   yes|     yes|      no|     5|       5|    5|   2|   4|     5|      16|  6|  5|  5| 5.333333333333333|         1|      0|          1|          0|          1|       3|       3|         3|           1|            0|         1|       0|             1|          1|         1|           1|           0|[1.0,1.0,3.0,2.0,...|\n",
      "|    GP|  M| 16|      U|    LE3|      T|   4|   3|  health|   other|      home|  father|         1|        1|       0|       no|    no| yes|       yes|    yes|   yes|     yes|      no|     3|       1|    3|   1|   3|     5|       4|  8| 10| 10| 9.333333333333334|         1|      0|          1|          1|          1|       2|      99|         1|           2|            0|         0|       1|             1|          1|         1|           1|           0|[1.0,1.0,4.0,3.0,...|\n",
      "+------+---+---+-------+-------+-------+----+----+--------+--------+----------+--------+----------+---------+--------+---------+------+----+----------+-------+------+--------+--------+------+--------+-----+----+----+------+--------+---+---+---+------------------+----------+-------+-----------+-----------+-----------+--------+--------+----------+------------+-------------+----------+--------+--------------+-----------+----------+------------+------------+--------------------+\n",
      "only showing top 20 rows\n",
      "\n"
     ]
    }
   ],
   "source": [
    "output.show()"
   ]
  },
  {
   "cell_type": "code",
   "execution_count": 20,
   "metadata": {},
   "outputs": [],
   "source": [
    "from pyspark.ml.classification import RandomForestClassifier,DecisionTreeClassifier"
   ]
  },
  {
   "cell_type": "code",
   "execution_count": 21,
   "metadata": {},
   "outputs": [],
   "source": [
    "rfc = DecisionTreeClassifier(labelCol='grades_mean',featuresCol='features')"
   ]
  },
  {
   "cell_type": "code",
   "execution_count": 22,
   "metadata": {},
   "outputs": [
    {
     "name": "stdout",
     "output_type": "stream",
     "text": [
      "+--------------------+------------------+\n",
      "|            features|       grades_mean|\n",
      "+--------------------+------------------+\n",
      "|[1.0,1.0,4.0,4.0,...| 5.666666666666667|\n",
      "|[1.0,1.0,1.0,1.0,...| 5.333333333333333|\n",
      "|[1.0,1.0,1.0,1.0,...| 8.333333333333334|\n",
      "|[1.0,1.0,4.0,2.0,...|14.666666666666666|\n",
      "|[1.0,1.0,3.0,3.0,...| 8.666666666666666|\n",
      "|[1.0,1.0,4.0,3.0,...|              15.0|\n",
      "|[1.0,1.0,2.0,2.0,...|11.666666666666666|\n",
      "|[1.0,1.0,4.0,4.0,...| 5.666666666666667|\n",
      "|[1.0,1.0,3.0,2.0,...|17.666666666666668|\n",
      "|[1.0,1.0,3.0,4.0,...|14.666666666666666|\n",
      "|[1.0,1.0,4.0,4.0,...|               9.0|\n",
      "|[1.0,1.0,2.0,1.0,...|11.333333333333334|\n",
      "|[1.0,1.0,4.0,4.0,...|              14.0|\n",
      "|[1.0,1.0,4.0,3.0,...|10.333333333333334|\n",
      "|[1.0,1.0,2.0,2.0,...|15.333333333333334|\n",
      "|[1.0,1.0,4.0,4.0,...|              14.0|\n",
      "|[1.0,1.0,4.0,4.0,...|13.666666666666666|\n",
      "|[1.0,1.0,3.0,3.0,...| 9.333333333333334|\n",
      "|[1.0,1.0,3.0,2.0,...| 5.333333333333333|\n",
      "|[1.0,1.0,4.0,3.0,...| 9.333333333333334|\n",
      "+--------------------+------------------+\n",
      "only showing top 20 rows\n",
      "\n"
     ]
    }
   ],
   "source": [
    "final_data = output.select('features','grades_mean')\n",
    "final_data.show()"
   ]
  },
  {
   "cell_type": "code",
   "execution_count": 23,
   "metadata": {},
   "outputs": [],
   "source": [
    "#rfc_model = rfc.fit(final_data)"
   ]
  },
  {
   "cell_type": "code",
   "execution_count": 24,
   "metadata": {},
   "outputs": [],
   "source": [
    "from pyspark.ml.clustering import KMeans"
   ]
  },
  {
   "cell_type": "code",
   "execution_count": 25,
   "metadata": {},
   "outputs": [],
   "source": [
    "from pyspark.ml.feature import StandardScaler"
   ]
  },
  {
   "cell_type": "code",
   "execution_count": 26,
   "metadata": {},
   "outputs": [],
   "source": [
    "scaler = StandardScaler(inputCol=\"features\", outputCol=\"scaledFeatures\", withStd=True, withMean=False)"
   ]
  },
  {
   "cell_type": "code",
   "execution_count": 27,
   "metadata": {},
   "outputs": [],
   "source": [
    "# Compute summary statistics by fitting the StandardScaler\n",
    "scalerModel = scaler.fit(final_data)"
   ]
  },
  {
   "cell_type": "code",
   "execution_count": 28,
   "metadata": {},
   "outputs": [],
   "source": [
    "# Normalize each feature to have unit standard deviation.\n",
    "cluster_final_data = scalerModel.transform(final_data)"
   ]
  },
  {
   "cell_type": "code",
   "execution_count": 29,
   "metadata": {},
   "outputs": [],
   "source": [
    "kmeans3 = KMeans(featuresCol='scaledFeatures',k=3)\n",
    "kmeans2 = KMeans(featuresCol='scaledFeatures',k=2)\n",
    "kmeans4 = KMeans(featuresCol='scaledFeatures',k=4)"
   ]
  },
  {
   "cell_type": "code",
   "execution_count": 30,
   "metadata": {},
   "outputs": [
    {
     "name": "stderr",
     "output_type": "stream",
     "text": [
      "24/04/25 21:27:07 WARN InstanceBuilder: Failed to load implementation from:dev.ludovic.netlib.blas.JNIBLAS\n"
     ]
    }
   ],
   "source": [
    "model_k3 = kmeans3.fit(cluster_final_data)\n",
    "model_k2 = kmeans2.fit(cluster_final_data)\n",
    "model_k4 = kmeans4.fit(cluster_final_data)"
   ]
  },
  {
   "cell_type": "code",
   "execution_count": 31,
   "metadata": {},
   "outputs": [],
   "source": [
    "predictions4 = model_k4.transform(cluster_final_data)\n",
    "predictions3 = model_k3.transform(cluster_final_data)\n",
    "predictions2 = model_k2.transform(cluster_final_data)"
   ]
  },
  {
   "cell_type": "code",
   "execution_count": 32,
   "metadata": {},
   "outputs": [],
   "source": [
    "from pyspark.ml.evaluation import ClusteringEvaluator"
   ]
  },
  {
   "cell_type": "code",
   "execution_count": 33,
   "metadata": {},
   "outputs": [
    {
     "name": "stdout",
     "output_type": "stream",
     "text": [
      "Silhouette4 with squared euclidean distance = -0.13188836640976676\n",
      "Cluster Centers (k=4): \n",
      "[3.0232965  1.94793774 2.42928192 2.19082593 0.19999726 2.01546598\n",
      " 2.77165769 0.28258543 0.58272953 2.03532956 1.22011477 0.88307688\n",
      " 1.93590479 4.55528997 2.17277962 0.56768113 2.98165387 2.39532826\n",
      " 1.25282376 1.27159367 2.49137572 0.50705017]\n",
      "[2.81701614 2.01154387 3.279767   3.08941654 0.53354836 1.84330541\n",
      " 2.29232249 0.29455703 0.25529103 1.64014879 1.24086502 1.29380069\n",
      " 2.19095256 4.51190625 2.62618108 0.86708361 3.60410132 3.39623328\n",
      " 2.15978449 2.38114355 2.65786455 1.06982412]\n",
      "[2.81223343 2.06463447 2.3376794  2.13433145 0.22325119 1.86532817\n",
      " 2.52404401 0.30364574 0.28823181 0.         0.45262322 1.20296459\n",
      " 2.02148242 4.55528997 2.159012   0.72853236 3.03571259 2.54986556\n",
      " 1.24337641 1.31914685 2.38982417 0.58848196]\n",
      "[1.89978966 1.09836804 1.61017199 1.52638864 0.85063794 2.96456274\n",
      " 1.69644944 1.34471686 0.30288767 0.72972721 0.37371554 0.54177098\n",
      " 1.55127587 3.08833218 1.76965797 0.71772786 3.51247163 3.02968426\n",
      " 2.39754563 2.61890696 2.79173305 0.75818119]\n",
      "-----------------------------------\n",
      "Silhouette3 with squared euclidean distance = -0.13188836640976676\n",
      "Cluster Centers (k=3): \n",
      "[2.946374   1.94910501 1.95566902 1.73921752 0.19003735 2.06873575\n",
      " 2.75096978 0.3970976  0.59967692 1.18332882 0.88788793 0.96537043\n",
      " 1.82618908 4.55528997 2.01237307 0.56840193 3.01013683 2.53800301\n",
      " 1.23567975 1.28194043 2.43295842 0.58869837]\n",
      "[2.88486577 2.06113509 3.29259529 3.07873627 0.42572346 1.78197761\n",
      " 2.43023114 0.16713995 0.25240639 1.50578632 1.13247134 1.19641091\n",
      " 2.26402425 4.52955386 2.54104735 0.8493113  3.30319393 2.89266336\n",
      " 1.68716174 1.84244711 2.59261381 0.79489015]\n",
      "[1.98544845 1.18267648 1.70777857 1.61148898 0.73773307 2.84658597\n",
      " 1.70962063 1.28625091 0.2589909  0.77253385 0.43575527 0.66592683\n",
      " 1.50570373 3.30093476 1.90118216 0.64439479 3.56927909 3.08528694\n",
      " 2.52191797 2.68947689 2.73113155 0.77325151]\n",
      "-----------------------------------\n",
      "Silhouette2 with squared euclidean distance = -0.13188836640976676\n",
      "Cluster Centers (k=2): \n",
      "[2.43382677 1.58882346 1.67897065 1.50785173 0.39704612 2.47360624\n",
      " 2.08941471 0.97539321 0.20974615 0.8807137  0.43759649 0.85820147\n",
      " 1.5503901  3.94577934 1.82877439 0.67097446 3.4123338  2.84656087\n",
      " 1.86582972 1.99582991 2.72004669 0.67843466]\n",
      "[2.92894668 2.02066918 2.97868356 2.77137361 0.38810929 1.8530198\n",
      " 2.61388278 0.15413751 0.48266486 1.46673385 1.18842348 1.10549117\n",
      " 2.19989181 4.53728487 2.45495879 0.72808243 3.1419153  2.76220165\n",
      " 1.54864992 1.65726609 2.46484148 0.73291797]\n"
     ]
    }
   ],
   "source": [
    "# Evaluate clustering by computing Silhouette score\n",
    "evaluator = ClusteringEvaluator()\n",
    "\n",
    "silhouette4 = evaluator.evaluate(predictions3)\n",
    "print(\"Silhouette4 with squared euclidean distance = \" + str(silhouette4))\n",
    "centers4 = model_k4.clusterCenters()\n",
    "print(\"Cluster Centers (k=4): \")\n",
    "for center in centers4:\n",
    "    print(center)\n",
    "\n",
    "print(\"-----------------------------------\")\n",
    "\n",
    "silhouette3 = evaluator.evaluate(predictions3)\n",
    "print(\"Silhouette3 with squared euclidean distance = \" + str(silhouette3))\n",
    "centers3 = model_k3.clusterCenters()\n",
    "print(\"Cluster Centers (k=3): \")\n",
    "for center in centers3:\n",
    "    print(center)\n",
    "\n",
    "print(\"-----------------------------------\")\n",
    "\n",
    "silhouette2 = evaluator.evaluate(predictions3)\n",
    "print(\"Silhouette2 with squared euclidean distance = \" + str(silhouette2))\n",
    "centers2 = model_k2.clusterCenters()\n",
    "print(\"Cluster Centers (k=2): \")\n",
    "for center in centers2:\n",
    "    print(center)"
   ]
  },
  {
   "cell_type": "code",
   "execution_count": 34,
   "metadata": {},
   "outputs": [
    {
     "name": "stdout",
     "output_type": "stream",
     "text": [
      "root\n",
      " |-- school: string (nullable = true)\n",
      " |-- sex: string (nullable = true)\n",
      " |-- age: integer (nullable = true)\n",
      " |-- address: string (nullable = true)\n",
      " |-- famsize: string (nullable = true)\n",
      " |-- Pstatus: string (nullable = true)\n",
      " |-- Medu: integer (nullable = true)\n",
      " |-- Fedu: integer (nullable = true)\n",
      " |-- Mjob: string (nullable = true)\n",
      " |-- Fjob: string (nullable = true)\n",
      " |-- reason: string (nullable = true)\n",
      " |-- guardian: string (nullable = true)\n",
      " |-- traveltime: integer (nullable = true)\n",
      " |-- studytime: integer (nullable = true)\n",
      " |-- failures: integer (nullable = true)\n",
      " |-- schoolsup: string (nullable = true)\n",
      " |-- famsup: string (nullable = true)\n",
      " |-- paid: string (nullable = true)\n",
      " |-- activities: string (nullable = true)\n",
      " |-- nursery: string (nullable = true)\n",
      " |-- higher: string (nullable = true)\n",
      " |-- internet: string (nullable = true)\n",
      " |-- romantic: string (nullable = true)\n",
      " |-- famrel: integer (nullable = true)\n",
      " |-- freetime: integer (nullable = true)\n",
      " |-- goout: integer (nullable = true)\n",
      " |-- Dalc: integer (nullable = true)\n",
      " |-- Walc: integer (nullable = true)\n",
      " |-- health: integer (nullable = true)\n",
      " |-- absences: integer (nullable = true)\n",
      " |-- G1: integer (nullable = true)\n",
      " |-- G2: integer (nullable = true)\n",
      " |-- G3: integer (nullable = true)\n",
      " |-- grades_mean: double (nullable = true)\n",
      " |-- school_num: integer (nullable = false)\n",
      " |-- sex_num: integer (nullable = false)\n",
      " |-- address_num: integer (nullable = false)\n",
      " |-- famsize_num: integer (nullable = false)\n",
      " |-- Pstatus_num: integer (nullable = false)\n",
      " |-- Mjob_num: integer (nullable = false)\n",
      " |-- Fjob_num: integer (nullable = false)\n",
      " |-- reason_num: integer (nullable = false)\n",
      " |-- guardian_num: integer (nullable = false)\n",
      " |-- schoolsup_num: integer (nullable = false)\n",
      " |-- famsup_num: integer (nullable = false)\n",
      " |-- paid_num: integer (nullable = false)\n",
      " |-- activities_num: integer (nullable = false)\n",
      " |-- nursery_num: integer (nullable = false)\n",
      " |-- higher_num: integer (nullable = false)\n",
      " |-- internet_num: integer (nullable = false)\n",
      " |-- romantic_num: integer (nullable = false)\n",
      " |-- features: vector (nullable = true)\n",
      "\n"
     ]
    }
   ],
   "source": [
    "output.printSchema()"
   ]
  },
  {
   "cell_type": "code",
   "execution_count": 35,
   "metadata": {},
   "outputs": [],
   "source": [
    "from pyspark.sql.functions import udf\n",
    "from pyspark.sql.types import IntegerType\n"
   ]
  },
  {
   "cell_type": "code",
   "execution_count": 36,
   "metadata": {},
   "outputs": [],
   "source": [
    "# Define a function to assign labels based on grades\n",
    "def assign_label(grades_mean):\n",
    "    if grades_mean >= 0 and grades_mean <= 7:\n",
    "        return 3\n",
    "    elif grades_mean >= 15 and grades_mean <= 20:\n",
    "        return 1\n",
    "    else:\n",
    "        return 2\n",
    "\n",
    "\n"
   ]
  },
  {
   "cell_type": "code",
   "execution_count": 37,
   "metadata": {},
   "outputs": [],
   "source": [
    "# Create a UDF from the assign_label function\n",
    "assign_label_udf = udf(assign_label, IntegerType())\n",
    "\n",
    "# Apply the UDF to the DataFrame to create a new column \"label\"\n",
    "output2 = output.withColumn(\"label\", assign_label_udf(output[\"grades_mean\"]))"
   ]
  },
  {
   "cell_type": "code",
   "execution_count": 38,
   "metadata": {},
   "outputs": [
    {
     "data": {
      "text/plain": [
       "['school',\n",
       " 'sex',\n",
       " 'age',\n",
       " 'address',\n",
       " 'famsize',\n",
       " 'Pstatus',\n",
       " 'Medu',\n",
       " 'Fedu',\n",
       " 'Mjob',\n",
       " 'Fjob',\n",
       " 'reason',\n",
       " 'guardian',\n",
       " 'traveltime',\n",
       " 'studytime',\n",
       " 'failures',\n",
       " 'schoolsup',\n",
       " 'famsup',\n",
       " 'paid',\n",
       " 'activities',\n",
       " 'nursery',\n",
       " 'higher',\n",
       " 'internet',\n",
       " 'romantic',\n",
       " 'famrel',\n",
       " 'freetime',\n",
       " 'goout',\n",
       " 'Dalc',\n",
       " 'Walc',\n",
       " 'health',\n",
       " 'absences',\n",
       " 'G1',\n",
       " 'G2',\n",
       " 'G3',\n",
       " 'grades_mean',\n",
       " 'school_num',\n",
       " 'sex_num',\n",
       " 'address_num',\n",
       " 'famsize_num',\n",
       " 'Pstatus_num',\n",
       " 'Mjob_num',\n",
       " 'Fjob_num',\n",
       " 'reason_num',\n",
       " 'guardian_num',\n",
       " 'schoolsup_num',\n",
       " 'famsup_num',\n",
       " 'paid_num',\n",
       " 'activities_num',\n",
       " 'nursery_num',\n",
       " 'higher_num',\n",
       " 'internet_num',\n",
       " 'romantic_num',\n",
       " 'features',\n",
       " 'label']"
      ]
     },
     "execution_count": 38,
     "metadata": {},
     "output_type": "execute_result"
    }
   ],
   "source": [
    "output2.columns"
   ]
  },
  {
   "cell_type": "code",
   "execution_count": null,
   "metadata": {},
   "outputs": [],
   "source": []
  },
  {
   "cell_type": "code",
   "execution_count": 39,
   "metadata": {},
   "outputs": [],
   "source": [
    "rfc2 = DecisionTreeClassifier(labelCol='label',featuresCol='features')\n"
   ]
  },
  {
   "cell_type": "code",
   "execution_count": 40,
   "metadata": {},
   "outputs": [],
   "source": [
    "final_data2 = output2.select('features','label')\n"
   ]
  },
  {
   "cell_type": "code",
   "execution_count": 41,
   "metadata": {},
   "outputs": [
    {
     "name": "stdout",
     "output_type": "stream",
     "text": [
      "root\n",
      " |-- features: vector (nullable = true)\n",
      " |-- label: integer (nullable = true)\n",
      "\n"
     ]
    }
   ],
   "source": [
    "final_data2.printSchema()"
   ]
  },
  {
   "cell_type": "code",
   "execution_count": 42,
   "metadata": {},
   "outputs": [
    {
     "name": "stderr",
     "output_type": "stream",
     "text": [
      "[Stage 163:>                                                        (0 + 1) / 1]\r"
     ]
    },
    {
     "name": "stderr",
     "output_type": "stream",
     "text": [
      "                                                                                \r"
     ]
    }
   ],
   "source": [
    "rfc_model2 = rfc2.fit(final_data2)"
   ]
  },
  {
   "cell_type": "code",
   "execution_count": 43,
   "metadata": {},
   "outputs": [
    {
     "data": {
      "text/plain": [
       "SparseVector(22, {2: 0.1035, 3: 0.0773, 4: 0.0727, 7: 0.1801, 8: 0.0789, 9: 0.0224, 10: 0.0465, 11: 0.0359, 13: 0.0414, 16: 0.0495, 17: 0.0255, 19: 0.0287, 21: 0.2375})"
      ]
     },
     "execution_count": 43,
     "metadata": {},
     "output_type": "execute_result"
    }
   ],
   "source": [
    "rfc_model2.featureImportances"
   ]
  },
  {
   "cell_type": "code",
   "execution_count": 44,
   "metadata": {},
   "outputs": [
    {
     "name": "stdout",
     "output_type": "stream",
     "text": [
      "Requirement already satisfied: matplotlib in /Library/Frameworks/Python.framework/Versions/3.12/lib/python3.12/site-packages (3.8.4)\n",
      "Requirement already satisfied: contourpy>=1.0.1 in /Library/Frameworks/Python.framework/Versions/3.12/lib/python3.12/site-packages (from matplotlib) (1.2.1)\n",
      "Requirement already satisfied: cycler>=0.10 in /Library/Frameworks/Python.framework/Versions/3.12/lib/python3.12/site-packages (from matplotlib) (0.12.1)\n",
      "Requirement already satisfied: fonttools>=4.22.0 in /Library/Frameworks/Python.framework/Versions/3.12/lib/python3.12/site-packages (from matplotlib) (4.51.0)\n",
      "Requirement already satisfied: kiwisolver>=1.3.1 in /Library/Frameworks/Python.framework/Versions/3.12/lib/python3.12/site-packages (from matplotlib) (1.4.5)\n",
      "Requirement already satisfied: numpy>=1.21 in /Library/Frameworks/Python.framework/Versions/3.12/lib/python3.12/site-packages (from matplotlib) (1.26.4)\n",
      "Requirement already satisfied: packaging>=20.0 in /Users/alanfayed/Library/Python/3.12/lib/python/site-packages (from matplotlib) (24.0)\n",
      "Requirement already satisfied: pillow>=8 in /Library/Frameworks/Python.framework/Versions/3.12/lib/python3.12/site-packages (from matplotlib) (10.3.0)\n",
      "Requirement already satisfied: pyparsing>=2.3.1 in /Library/Frameworks/Python.framework/Versions/3.12/lib/python3.12/site-packages (from matplotlib) (3.1.2)\n",
      "Requirement already satisfied: python-dateutil>=2.7 in /Users/alanfayed/Library/Python/3.12/lib/python/site-packages (from matplotlib) (2.9.0.post0)\n",
      "Requirement already satisfied: six>=1.5 in /Users/alanfayed/Library/Python/3.12/lib/python/site-packages (from python-dateutil>=2.7->matplotlib) (1.16.0)\n",
      "Note: you may need to restart the kernel to use updated packages.\n"
     ]
    }
   ],
   "source": [
    "pip install matplotlib"
   ]
  },
  {
   "cell_type": "code",
   "execution_count": 45,
   "metadata": {},
   "outputs": [],
   "source": [
    "from pyspark.ml.classification import RandomForestClassifier\n",
    "import matplotlib.pyplot as plt\n"
   ]
  },
  {
   "cell_type": "code",
   "execution_count": 46,
   "metadata": {},
   "outputs": [
    {
     "data": {
      "image/png": "[encoded data removed]",
      "text/plain": [
       "<Figure size 1000x600 with 1 Axes>"
      ]
     },
     "metadata": {},
     "output_type": "display_data"
    }
   ],
   "source": [
    "# Get feature importances\n",
    "importances = rfc_model2.featureImportances\n",
    "\n",
    "# Get feature names\n",
    "feature_names = ['school_num',\n",
    " 'address_num',\n",
    " 'Medu',\n",
    " 'Fedu',\n",
    " 'reason_num',\n",
    " 'traveltime',\n",
    " 'studytime',\n",
    " 'failures',\n",
    " 'schoolsup_num',\n",
    " 'famsup_num',\n",
    " 'paid_num',\n",
    " 'activities_num',\n",
    " 'nursery_num',\n",
    " 'higher_num',\n",
    " 'internet_num',\n",
    " 'romantic_num',\n",
    " 'freetime',\n",
    " 'goout',\n",
    " 'Dalc',\n",
    " 'Walc',\n",
    " 'health',\n",
    " 'absences']\n",
    "\n",
    "# Plot feature importances\n",
    "plt.figure(figsize=(10, 6))\n",
    "plt.barh(range(len(importances)), importances, align='center')\n",
    "plt.yticks(range(len(importances)), feature_names)\n",
    "plt.xlabel('Importance')\n",
    "plt.ylabel('Feature')\n",
    "plt.title('Feature Importances')\n",
    "plt.show()"
   ]
  },
  {
   "cell_type": "code",
   "execution_count": 47,
   "metadata": {},
   "outputs": [],
   "source": [
    "final_data2_new = rfc_model2.transform(final_data2)"
   ]
  },
  {
   "cell_type": "code",
   "execution_count": 48,
   "metadata": {},
   "outputs": [
    {
     "name": "stdout",
     "output_type": "stream",
     "text": [
      "+--------------------+-----+-------------------+--------------------+----------+\n",
      "|            features|label|      rawPrediction|         probability|prediction|\n",
      "+--------------------+-----+-------------------+--------------------+----------+\n",
      "|[1.0,1.0,4.0,4.0,...|    3| [0.0,0.0,11.0,2.0]|[0.0,0.0,0.846153...|       2.0|\n",
      "|[1.0,1.0,1.0,1.0,...|    3| [0.0,7.0,90.0,5.0]|[0.0,0.0686274509...|       2.0|\n",
      "|[1.0,1.0,1.0,1.0,...|    2| [0.0,7.0,90.0,5.0]|[0.0,0.0686274509...|       2.0|\n",
      "|[1.0,1.0,4.0,2.0,...|    2| [0.0,7.0,60.0,7.0]|[0.0,0.0945945945...|       2.0|\n",
      "|[1.0,1.0,3.0,3.0,...|    2| [0.0,7.0,60.0,7.0]|[0.0,0.0945945945...|       2.0|\n",
      "|[1.0,1.0,4.0,3.0,...|    1| [0.0,7.0,60.0,7.0]|[0.0,0.0945945945...|       2.0|\n",
      "|[1.0,1.0,2.0,2.0,...|    2| [0.0,8.0,36.0,6.0]|[0.0,0.16,0.72,0.12]|       2.0|\n",
      "|[1.0,1.0,4.0,4.0,...|    3| [0.0,0.0,11.0,2.0]|[0.0,0.0,0.846153...|       2.0|\n",
      "|[1.0,1.0,3.0,2.0,...|    1| [0.0,8.0,36.0,6.0]|[0.0,0.16,0.72,0.12]|       2.0|\n",
      "|[1.0,1.0,3.0,4.0,...|    2|  [0.0,2.0,9.0,2.0]|[0.0,0.1538461538...|       2.0|\n",
      "|[1.0,1.0,4.0,4.0,...|    2| [0.0,8.0,36.0,6.0]|[0.0,0.16,0.72,0.12]|       2.0|\n",
      "|[1.0,1.0,2.0,1.0,...|    2| [0.0,7.0,90.0,5.0]|[0.0,0.0686274509...|       2.0|\n",
      "|[1.0,1.0,4.0,4.0,...|    2| [0.0,7.0,60.0,7.0]|[0.0,0.0945945945...|       2.0|\n",
      "|[1.0,1.0,4.0,3.0,...|    2| [0.0,7.0,60.0,7.0]|[0.0,0.0945945945...|       2.0|\n",
      "|[1.0,1.0,2.0,2.0,...|    1| [0.0,8.0,36.0,6.0]|[0.0,0.16,0.72,0.12]|       2.0|\n",
      "|[1.0,1.0,4.0,4.0,...|    2|[0.0,12.0,35.0,5.0]|[0.0,0.2307692307...|       2.0|\n",
      "|[1.0,1.0,4.0,4.0,...|    2| [0.0,7.0,60.0,7.0]|[0.0,0.0945945945...|       2.0|\n",
      "|[1.0,1.0,3.0,3.0,...|    2| [0.0,0.0,11.0,2.0]|[0.0,0.0,0.846153...|       2.0|\n",
      "|[1.0,1.0,3.0,2.0,...|    3|[0.0,12.0,35.0,5.0]|[0.0,0.2307692307...|       2.0|\n",
      "|[1.0,1.0,4.0,3.0,...|    2|  [0.0,2.0,1.0,0.0]|[0.0,0.6666666666...|       1.0|\n",
      "+--------------------+-----+-------------------+--------------------+----------+\n",
      "only showing top 20 rows\n",
      "\n"
     ]
    }
   ],
   "source": [
    "final_data2_new.show()"
   ]
  },
  {
   "cell_type": "code",
   "execution_count": 49,
   "metadata": {},
   "outputs": [
    {
     "name": "stdout",
     "output_type": "stream",
     "text": [
      "Confusion Matrix:\n",
      "prediction  1.0  2.0  3.0\n",
      "label                    \n",
      "1            18   37    1\n",
      "2            10  257    4\n",
      "3             2   28   38\n"
     ]
    }
   ],
   "source": [
    "import pandas as pd\n",
    "from pyspark.sql.functions import col\n",
    "\n",
    "# Convert predictions DataFrame to pandas DataFrame\n",
    "predictions_pd = final_data2_new.select(\"label\", \"prediction\").toPandas()\n",
    "\n",
    "# Calculate confusion matrix using crosstab\n",
    "conf_matrix_pd = pd.crosstab(predictions_pd['label'], predictions_pd['prediction'])\n",
    "\n",
    "# Convert index and columns to string for better visual representation\n",
    "conf_matrix_pd.index = conf_matrix_pd.index.astype(str)\n",
    "conf_matrix_pd.columns = conf_matrix_pd.columns.astype(str)\n",
    "\n",
    "# Display confusion matrix\n",
    "print(\"Confusion Matrix:\")\n",
    "print(conf_matrix_pd)\n"
   ]
  },
  {
   "cell_type": "code",
   "execution_count": 50,
   "metadata": {},
   "outputs": [],
   "source": [
    "from pyspark.ml.feature import VectorAssembler\n",
    "from pyspark.ml.classification import RandomForestClassificationModel"
   ]
  },
  {
   "cell_type": "code",
   "execution_count": 51,
   "metadata": {},
   "outputs": [],
   "source": [
    "train_label,test_label = final_data2.randomSplit([0.7,0.3])"
   ]
  },
  {
   "cell_type": "code",
   "execution_count": 52,
   "metadata": {},
   "outputs": [],
   "source": [
    "from pyspark.ml.classification import LogisticRegression"
   ]
  },
  {
   "cell_type": "code",
   "execution_count": 53,
   "metadata": {},
   "outputs": [],
   "source": [
    "lr_student = LogisticRegression(labelCol='label')"
   ]
  },
  {
   "cell_type": "code",
   "execution_count": 54,
   "metadata": {},
   "outputs": [],
   "source": [
    "fitted_model = lr_student.fit(train_label)"
   ]
  },
  {
   "cell_type": "code",
   "execution_count": null,
   "metadata": {},
   "outputs": [],
   "source": []
  },
  {
   "cell_type": "code",
   "execution_count": 55,
   "metadata": {},
   "outputs": [],
   "source": [
    "training_sum = fitted_model.summary"
   ]
  },
  {
   "cell_type": "code",
   "execution_count": 56,
   "metadata": {},
   "outputs": [
    {
     "name": "stdout",
     "output_type": "stream",
     "text": [
      "+-------+------------------+------------------+\n",
      "|summary|             label|        prediction|\n",
      "+-------+------------------+------------------+\n",
      "|  count|               284|               284|\n",
      "|   mean|2.0211267605633805|1.9929577464788732|\n",
      "| stddev|0.5635364089642639|0.3663684617955499|\n",
      "|    min|               1.0|               1.0|\n",
      "|    max|               3.0|               3.0|\n",
      "+-------+------------------+------------------+\n",
      "\n"
     ]
    }
   ],
   "source": [
    "training_sum.predictions.describe().show()"
   ]
  },
  {
   "cell_type": "code",
   "execution_count": 57,
   "metadata": {},
   "outputs": [],
   "source": [
    "from pyspark.ml.evaluation import BinaryClassificationEvaluator"
   ]
  },
  {
   "cell_type": "code",
   "execution_count": 58,
   "metadata": {},
   "outputs": [],
   "source": [
    "pred_and_labels = fitted_model.evaluate(test_label)"
   ]
  },
  {
   "cell_type": "code",
   "execution_count": 59,
   "metadata": {},
   "outputs": [
    {
     "name": "stdout",
     "output_type": "stream",
     "text": [
      "+--------------------+-----+--------------------+--------------------+----------+\n",
      "|            features|label|       rawPrediction|         probability|prediction|\n",
      "+--------------------+-----+--------------------+--------------------+----------+\n",
      "|(22,[0,2,3,4,5,6,...|    1|[-61.086145922739...|[7.69213321036313...|       2.0|\n",
      "|[0.0,0.0,1.0,1.0,...|    2|[-38.764659537345...|[3.30955074604168...|       2.0|\n",
      "|[0.0,0.0,1.0,2.0,...|    3|[-61.619161487182...|[4.43699280474240...|       2.0|\n",
      "|[0.0,0.0,3.0,2.0,...|    2|[-27.465025319264...|[7.33917036027864...|       2.0|\n",
      "|[0.0,1.0,3.0,1.0,...|    2|[-75.761853783887...|[4.30462414640157...|       2.0|\n",
      "|[0.0,1.0,3.0,3.0,...|    2|[-78.254099012785...|[9.90038956164954...|       3.0|\n",
      "|[1.0,0.0,1.0,2.0,...|    2|[-41.628662583011...|[4.37543788202878...|       2.0|\n",
      "|[1.0,0.0,2.0,1.0,...|    3|[-37.075178582860...|[9.02037738623478...|       3.0|\n",
      "|[1.0,0.0,2.0,1.0,...|    3|[-2.8361630298303...|[1.73781768904776...|       2.0|\n",
      "|[1.0,0.0,2.0,2.0,...|    2|[-58.276422874676...|[2.42177499852517...|       2.0|\n",
      "|[1.0,0.0,2.0,2.0,...|    3|[-72.623049779150...|[2.53423921587068...|       2.0|\n",
      "|[1.0,0.0,3.0,1.0,...|    2|[-61.020127399772...|[1.32102732572258...|       2.0|\n",
      "|[1.0,0.0,3.0,2.0,...|    2|[-16.289227687318...|[2.36256416772194...|       2.0|\n",
      "|[1.0,0.0,3.0,2.0,...|    2|[-64.145719624755...|[1.32142594947040...|       2.0|\n",
      "|[1.0,0.0,3.0,2.0,...|    3|[-29.278781258293...|[7.37660982445579...|       3.0|\n",
      "|[1.0,0.0,3.0,3.0,...|    2|[-57.971879663727...|[4.70894601173837...|       2.0|\n",
      "|[1.0,0.0,3.0,3.0,...|    3|[-60.508927124262...|[2.01548153170421...|       3.0|\n",
      "|[1.0,0.0,3.0,4.0,...|    1|[-51.532265789438...|[1.76599099372219...|       2.0|\n",
      "|[1.0,0.0,3.0,4.0,...|    2|[-56.679436395784...|[1.81915811062277...|       2.0|\n",
      "|[1.0,0.0,4.0,3.0,...|    3|[-68.504513528246...|[4.84453011023627...|       2.0|\n",
      "+--------------------+-----+--------------------+--------------------+----------+\n",
      "only showing top 20 rows\n",
      "\n"
     ]
    }
   ],
   "source": [
    "pred_and_labels.predictions.show()"
   ]
  },
  {
   "cell_type": "code",
   "execution_count": 60,
   "metadata": {},
   "outputs": [],
   "source": [
    "pred_eval = BinaryClassificationEvaluator(rawPredictionCol='prediction',\n",
    "                                           labelCol='label')"
   ]
  },
  {
   "cell_type": "code",
   "execution_count": 61,
   "metadata": {},
   "outputs": [],
   "source": [
    "auc = pred_eval.evaluate(pred_and_labels.predictions)"
   ]
  },
  {
   "cell_type": "code",
   "execution_count": 62,
   "metadata": {},
   "outputs": [
    {
     "data": {
      "text/plain": [
       "1.0"
      ]
     },
     "execution_count": 62,
     "metadata": {},
     "output_type": "execute_result"
    }
   ],
   "source": [
    "auc"
   ]
  },
  {
   "cell_type": "code",
   "execution_count": 63,
   "metadata": {},
   "outputs": [
    {
     "name": "stdout",
     "output_type": "stream",
     "text": [
      "+------+---+---+-------+-------+-------+----+----+--------+--------+----------+--------+----------+---------+--------+---------+------+----+----------+-------+------+--------+--------+------+--------+-----+----+----+------+--------+---+---+---+------------------+----------+-------+-----------+-----------+-----------+--------+--------+----------+------------+-------------+----------+--------+--------------+-----------+----------+------------+------------+--------------------+-----+\n",
      "|school|sex|age|address|famsize|Pstatus|Medu|Fedu|    Mjob|    Fjob|    reason|guardian|traveltime|studytime|failures|schoolsup|famsup|paid|activities|nursery|higher|internet|romantic|famrel|freetime|goout|Dalc|Walc|health|absences| G1| G2| G3|       grades_mean|school_num|sex_num|address_num|famsize_num|Pstatus_num|Mjob_num|Fjob_num|reason_num|guardian_num|schoolsup_num|famsup_num|paid_num|activities_num|nursery_num|higher_num|internet_num|romantic_num|            features|label|\n",
      "+------+---+---+-------+-------+-------+----+----+--------+--------+----------+--------+----------+---------+--------+---------+------+----+----------+-------+------+--------+--------+------+--------+-----+----+----+------+--------+---+---+---+------------------+----------+-------+-----------+-----------+-----------+--------+--------+----------+------------+-------------+----------+--------+--------------+-----------+----------+------------+------------+--------------------+-----+\n",
      "|    GP|  F| 18|      U|    GT3|      A|   4|   4| at_home| teacher|    course|  mother|         2|        2|       0|      yes|    no|  no|        no|    yes|   yes|      no|      no|     4|       3|    4|   1|   1|     3|       6|  5|  6|  6| 5.666666666666667|         1|      1|          1|          0|          0|       4|       1|         3|           1|            1|         0|       0|             0|          1|         1|           0|           0|[1.0,1.0,4.0,4.0,...|    3|\n",
      "|    GP|  F| 17|      U|    GT3|      T|   1|   1| at_home|   other|    course|  father|         1|        2|       0|       no|   yes|  no|        no|     no|   yes|     yes|      no|     5|       3|    3|   1|   1|     3|       4|  5|  5|  6| 5.333333333333333|         1|      1|          1|          0|          1|       4|      99|         3|           2|            0|         1|       0|             0|          0|         1|           1|           0|[1.0,1.0,1.0,1.0,...|    3|\n",
      "|    GP|  F| 15|      U|    LE3|      T|   1|   1| at_home|   other|     other|  mother|         1|        2|       3|      yes|    no| yes|        no|    yes|   yes|     yes|      no|     4|       3|    2|   2|   3|     3|      10|  7|  8| 10| 8.333333333333334|         1|      1|          1|          1|          1|       4|      99|        99|           1|            1|         0|       1|             0|          1|         1|           1|           0|[1.0,1.0,1.0,1.0,...|    2|\n",
      "|    GP|  F| 15|      U|    GT3|      T|   4|   2|  health|services|      home|  mother|         1|        3|       0|       no|   yes| yes|       yes|    yes|   yes|     yes|     yes|     3|       2|    2|   1|   1|     5|       2| 15| 14| 15|14.666666666666666|         1|      1|          1|          0|          1|       2|       3|         1|           1|            0|         1|       1|             1|          1|         1|           1|           1|[1.0,1.0,4.0,2.0,...|    2|\n",
      "|    GP|  F| 16|      U|    GT3|      T|   3|   3|   other|   other|      home|  father|         1|        2|       0|       no|   yes| yes|        no|    yes|   yes|      no|      no|     4|       3|    2|   1|   2|     5|       4|  6| 10| 10| 8.666666666666666|         1|      1|          1|          0|          1|      99|      99|         1|           2|            0|         1|       1|             0|          1|         1|           0|           0|[1.0,1.0,3.0,3.0,...|    2|\n",
      "|    GP|  M| 16|      U|    LE3|      T|   4|   3|services|   other|reputation|  mother|         1|        2|       0|       no|   yes| yes|       yes|    yes|   yes|     yes|      no|     5|       4|    2|   1|   2|     5|      10| 15| 15| 15|              15.0|         1|      0|          1|          1|          1|       3|      99|         2|           1|            0|         1|       1|             1|          1|         1|           1|           0|[1.0,1.0,4.0,3.0,...|    1|\n",
      "|    GP|  M| 16|      U|    LE3|      T|   2|   2|   other|   other|      home|  mother|         1|        2|       0|       no|    no|  no|        no|    yes|   yes|     yes|      no|     4|       4|    4|   1|   1|     3|       0| 12| 12| 11|11.666666666666666|         1|      0|          1|          1|          1|      99|      99|         1|           1|            0|         0|       0|             0|          1|         1|           1|           0|[1.0,1.0,2.0,2.0,...|    2|\n",
      "|    GP|  F| 17|      U|    GT3|      A|   4|   4|   other| teacher|      home|  mother|         2|        2|       0|      yes|   yes|  no|        no|    yes|   yes|      no|      no|     4|       1|    4|   1|   1|     1|       6|  6|  5|  6| 5.666666666666667|         1|      1|          1|          0|          0|      99|       1|         1|           1|            1|         1|       0|             0|          1|         1|           0|           0|[1.0,1.0,4.0,4.0,...|    3|\n",
      "|    GP|  M| 15|      U|    LE3|      A|   3|   2|services|   other|      home|  mother|         1|        2|       0|       no|   yes| yes|        no|    yes|   yes|     yes|      no|     4|       2|    2|   1|   1|     1|       0| 16| 18| 19|17.666666666666668|         1|      0|          1|          1|          0|       3|      99|         1|           1|            0|         1|       1|             0|          1|         1|           1|           0|[1.0,1.0,3.0,2.0,...|    1|\n",
      "|    GP|  M| 15|      U|    GT3|      T|   3|   4|   other|   other|      home|  mother|         1|        2|       0|       no|   yes| yes|       yes|    yes|   yes|     yes|      no|     5|       5|    1|   1|   1|     5|       0| 14| 15| 15|14.666666666666666|         1|      0|          1|          0|          1|      99|      99|         1|           1|            0|         1|       1|             1|          1|         1|           1|           0|[1.0,1.0,3.0,4.0,...|    2|\n",
      "|    GP|  F| 15|      U|    GT3|      T|   4|   4| teacher|  health|reputation|  mother|         1|        2|       0|       no|   yes| yes|        no|    yes|   yes|     yes|      no|     3|       3|    3|   1|   2|     2|       0| 10|  8|  9|               9.0|         1|      1|          1|          0|          1|       1|       2|         2|           1|            0|         1|       1|             0|          1|         1|           1|           0|[1.0,1.0,4.0,4.0,...|    2|\n",
      "|    GP|  F| 15|      U|    GT3|      T|   2|   1|services|   other|reputation|  father|         3|        3|       0|       no|   yes|  no|       yes|    yes|   yes|     yes|      no|     5|       2|    2|   1|   1|     4|       4| 10| 12| 12|11.333333333333334|         1|      1|          1|          0|          1|       3|      99|         2|           2|            0|         1|       0|             1|          1|         1|           1|           0|[1.0,1.0,2.0,1.0,...|    2|\n",
      "|    GP|  M| 15|      U|    LE3|      T|   4|   4|  health|services|    course|  father|         1|        1|       0|       no|   yes| yes|       yes|    yes|   yes|     yes|      no|     4|       3|    3|   1|   3|     5|       2| 14| 14| 14|              14.0|         1|      0|          1|          1|          1|       2|       3|         3|           2|            0|         1|       1|             1|          1|         1|           1|           0|[1.0,1.0,4.0,4.0,...|    2|\n",
      "|    GP|  M| 15|      U|    GT3|      T|   4|   3| teacher|   other|    course|  mother|         2|        2|       0|       no|   yes| yes|        no|    yes|   yes|     yes|      no|     5|       4|    3|   1|   2|     3|       2| 10| 10| 11|10.333333333333334|         1|      0|          1|          0|          1|       1|      99|         3|           1|            0|         1|       1|             0|          1|         1|           1|           0|[1.0,1.0,4.0,3.0,...|    2|\n",
      "|    GP|  M| 15|      U|    GT3|      A|   2|   2|   other|   other|      home|   other|         1|        3|       0|       no|   yes|  no|        no|    yes|   yes|     yes|     yes|     4|       5|    2|   1|   1|     3|       0| 14| 16| 16|15.333333333333334|         1|      0|          1|          0|          0|      99|      99|         1|          99|            0|         1|       0|             0|          1|         1|           1|           1|[1.0,1.0,2.0,2.0,...|    1|\n",
      "|    GP|  F| 16|      U|    GT3|      T|   4|   4|  health|   other|      home|  mother|         1|        1|       0|       no|   yes|  no|        no|    yes|   yes|     yes|      no|     4|       4|    4|   1|   2|     2|       4| 14| 14| 14|              14.0|         1|      1|          1|          0|          1|       2|      99|         1|           1|            0|         1|       0|             0|          1|         1|           1|           0|[1.0,1.0,4.0,4.0,...|    2|\n",
      "|    GP|  F| 16|      U|    GT3|      T|   4|   4|services|services|reputation|  mother|         1|        3|       0|       no|   yes| yes|       yes|    yes|   yes|     yes|      no|     3|       2|    3|   1|   2|     2|       6| 13| 14| 14|13.666666666666666|         1|      1|          1|          0|          1|       3|       3|         2|           1|            0|         1|       1|             1|          1|         1|           1|           0|[1.0,1.0,4.0,4.0,...|    2|\n",
      "|    GP|  F| 16|      U|    GT3|      T|   3|   3|   other|   other|reputation|  mother|         3|        2|       0|      yes|   yes|  no|       yes|    yes|   yes|      no|      no|     5|       3|    2|   1|   1|     4|       4|  8| 10| 10| 9.333333333333334|         1|      1|          1|          0|          1|      99|      99|         2|           1|            1|         1|       0|             1|          1|         1|           0|           0|[1.0,1.0,3.0,3.0,...|    2|\n",
      "|    GP|  M| 17|      U|    GT3|      T|   3|   2|services|services|    course|  mother|         1|        1|       3|       no|   yes|  no|       yes|    yes|   yes|     yes|      no|     5|       5|    5|   2|   4|     5|      16|  6|  5|  5| 5.333333333333333|         1|      0|          1|          0|          1|       3|       3|         3|           1|            0|         1|       0|             1|          1|         1|           1|           0|[1.0,1.0,3.0,2.0,...|    3|\n",
      "|    GP|  M| 16|      U|    LE3|      T|   4|   3|  health|   other|      home|  father|         1|        1|       0|       no|    no| yes|       yes|    yes|   yes|     yes|      no|     3|       1|    3|   1|   3|     5|       4|  8| 10| 10| 9.333333333333334|         1|      0|          1|          1|          1|       2|      99|         1|           2|            0|         0|       1|             1|          1|         1|           1|           0|[1.0,1.0,4.0,3.0,...|    2|\n",
      "+------+---+---+-------+-------+-------+----+----+--------+--------+----------+--------+----------+---------+--------+---------+------+----+----------+-------+------+--------+--------+------+--------+-----+----+----+------+--------+---+---+---+------------------+----------+-------+-----------+-----------+-----------+--------+--------+----------+------------+-------------+----------+--------+--------------+-----------+----------+------------+------------+--------------------+-----+\n",
      "only showing top 20 rows\n",
      "\n"
     ]
    }
   ],
   "source": [
    "output2.show()"
   ]
  },
  {
   "cell_type": "code",
   "execution_count": 64,
   "metadata": {},
   "outputs": [],
   "source": [
    "newdf = output2.select('Medu','Fedu','reason_num','failures','schoolsup_num','famsup_num','paid_num','activities_num','higher_num', 'freetime', 'goout', 'Walc', 'absences')"
   ]
  },
  {
   "cell_type": "code",
   "execution_count": 65,
   "metadata": {},
   "outputs": [
    {
     "data": {
      "text/plain": [
       "['Medu',\n",
       " 'Fedu',\n",
       " 'reason_num',\n",
       " 'failures',\n",
       " 'schoolsup_num',\n",
       " 'famsup_num',\n",
       " 'paid_num',\n",
       " 'activities_num',\n",
       " 'higher_num',\n",
       " 'freetime',\n",
       " 'goout',\n",
       " 'Walc',\n",
       " 'absences']"
      ]
     },
     "execution_count": 65,
     "metadata": {},
     "output_type": "execute_result"
    }
   ],
   "source": [
    "newdf.columns"
   ]
  },
  {
   "cell_type": "code",
   "execution_count": 66,
   "metadata": {},
   "outputs": [],
   "source": [
    "dffeat_cols = ['Medu',\n",
    " 'Fedu',\n",
    " 'reason_num',\n",
    " 'schoolsup_num',\n",
    " 'famsup_num',\n",
    " 'paid_num',\n",
    " 'activities_num',\n",
    " 'freetime',\n",
    " 'goout',\n",
    " 'Walc',\n",
    " 'absences']"
   ]
  },
  {
   "cell_type": "code",
   "execution_count": 67,
   "metadata": {},
   "outputs": [],
   "source": [
    "assembler2 = VectorAssembler(inputCols=dffeat_cols,outputCol=\"features\")"
   ]
  },
  {
   "cell_type": "code",
   "execution_count": 68,
   "metadata": {},
   "outputs": [],
   "source": [
    "finaldf = assembler2.transform(newdf)"
   ]
  },
  {
   "cell_type": "code",
   "execution_count": 69,
   "metadata": {},
   "outputs": [
    {
     "data": {
      "text/plain": [
       "['Medu',\n",
       " 'Fedu',\n",
       " 'reason_num',\n",
       " 'failures',\n",
       " 'schoolsup_num',\n",
       " 'famsup_num',\n",
       " 'paid_num',\n",
       " 'activities_num',\n",
       " 'higher_num',\n",
       " 'freetime',\n",
       " 'goout',\n",
       " 'Walc',\n",
       " 'absences',\n",
       " 'features']"
      ]
     },
     "execution_count": 69,
     "metadata": {},
     "output_type": "execute_result"
    }
   ],
   "source": [
    "finaldf.columns"
   ]
  },
  {
   "cell_type": "code",
   "execution_count": 70,
   "metadata": {},
   "outputs": [
    {
     "name": "stdout",
     "output_type": "stream",
     "text": [
      "+----+----+----------+--------+-------------+----------+--------+--------------+----------+--------+-----+----+--------+--------------------+\n",
      "|Medu|Fedu|reason_num|failures|schoolsup_num|famsup_num|paid_num|activities_num|higher_num|freetime|goout|Walc|absences|            features|\n",
      "+----+----+----------+--------+-------------+----------+--------+--------------+----------+--------+-----+----+--------+--------------------+\n",
      "|   4|   4|         3|       0|            1|         0|       0|             0|         1|       3|    4|   1|       6|[4.0,4.0,3.0,1.0,...|\n",
      "|   1|   1|         3|       0|            0|         1|       0|             0|         1|       3|    3|   1|       4|[1.0,1.0,3.0,0.0,...|\n",
      "|   1|   1|        99|       3|            1|         0|       1|             0|         1|       3|    2|   3|      10|[1.0,1.0,99.0,1.0...|\n",
      "|   4|   2|         1|       0|            0|         1|       1|             1|         1|       2|    2|   1|       2|[4.0,2.0,1.0,0.0,...|\n",
      "|   3|   3|         1|       0|            0|         1|       1|             0|         1|       3|    2|   2|       4|[3.0,3.0,1.0,0.0,...|\n",
      "|   4|   3|         2|       0|            0|         1|       1|             1|         1|       4|    2|   2|      10|[4.0,3.0,2.0,0.0,...|\n",
      "|   2|   2|         1|       0|            0|         0|       0|             0|         1|       4|    4|   1|       0|(11,[0,1,2,7,8,9]...|\n",
      "|   4|   4|         1|       0|            1|         1|       0|             0|         1|       1|    4|   1|       6|[4.0,4.0,1.0,1.0,...|\n",
      "|   3|   2|         1|       0|            0|         1|       1|             0|         1|       2|    2|   1|       0|[3.0,2.0,1.0,0.0,...|\n",
      "|   3|   4|         1|       0|            0|         1|       1|             1|         1|       5|    1|   1|       0|[3.0,4.0,1.0,0.0,...|\n",
      "|   4|   4|         2|       0|            0|         1|       1|             0|         1|       3|    3|   2|       0|[4.0,4.0,2.0,0.0,...|\n",
      "|   2|   1|         2|       0|            0|         1|       0|             1|         1|       2|    2|   1|       4|[2.0,1.0,2.0,0.0,...|\n",
      "|   4|   4|         3|       0|            0|         1|       1|             1|         1|       3|    3|   3|       2|[4.0,4.0,3.0,0.0,...|\n",
      "|   4|   3|         3|       0|            0|         1|       1|             0|         1|       4|    3|   2|       2|[4.0,3.0,3.0,0.0,...|\n",
      "|   2|   2|         1|       0|            0|         1|       0|             0|         1|       5|    2|   1|       0|[2.0,2.0,1.0,0.0,...|\n",
      "|   4|   4|         1|       0|            0|         1|       0|             0|         1|       4|    4|   2|       4|[4.0,4.0,1.0,0.0,...|\n",
      "|   4|   4|         2|       0|            0|         1|       1|             1|         1|       2|    3|   2|       6|[4.0,4.0,2.0,0.0,...|\n",
      "|   3|   3|         2|       0|            1|         1|       0|             1|         1|       3|    2|   1|       4|[3.0,3.0,2.0,1.0,...|\n",
      "|   3|   2|         3|       3|            0|         1|       0|             1|         1|       5|    5|   4|      16|[3.0,2.0,3.0,0.0,...|\n",
      "|   4|   3|         1|       0|            0|         0|       1|             1|         1|       1|    3|   3|       4|[4.0,3.0,1.0,0.0,...|\n",
      "+----+----+----------+--------+-------------+----------+--------+--------------+----------+--------+-----+----+--------+--------------------+\n",
      "only showing top 20 rows\n",
      "\n"
     ]
    }
   ],
   "source": [
    "finaldf.show()"
   ]
  },
  {
   "cell_type": "code",
   "execution_count": 71,
   "metadata": {},
   "outputs": [],
   "source": [
    "rfcfailure = DecisionTreeClassifier(labelCol='failures',featuresCol='features')"
   ]
  },
  {
   "cell_type": "code",
   "execution_count": 72,
   "metadata": {},
   "outputs": [],
   "source": [
    "rfcdf = finaldf.select('failures','features')"
   ]
  },
  {
   "cell_type": "code",
   "execution_count": 73,
   "metadata": {},
   "outputs": [],
   "source": [
    "rfcfl_model = rfcfailure.fit(rfcdf)"
   ]
  },
  {
   "cell_type": "code",
   "execution_count": 74,
   "metadata": {},
   "outputs": [
    {
     "data": {
      "text/plain": [
       "SparseVector(11, {0: 0.1058, 1: 0.2467, 2: 0.0393, 3: 0.0687, 6: 0.0343, 7: 0.0786, 8: 0.1131, 9: 0.1348, 10: 0.1787})"
      ]
     },
     "execution_count": 74,
     "metadata": {},
     "output_type": "execute_result"
    }
   ],
   "source": [
    "rfcfl_model.featureImportances"
   ]
  },
  {
   "cell_type": "code",
   "execution_count": 75,
   "metadata": {},
   "outputs": [
    {
     "data": {
      "text/plain": [
       "SparseVector(22, {2: 0.1035, 3: 0.0773, 4: 0.0727, 7: 0.1801, 8: 0.0789, 9: 0.0224, 10: 0.0465, 11: 0.0359, 13: 0.0414, 16: 0.0495, 17: 0.0255, 19: 0.0287, 21: 0.2375})"
      ]
     },
     "execution_count": 75,
     "metadata": {},
     "output_type": "execute_result"
    }
   ],
   "source": [
    "rfc_model2.featureImportances"
   ]
  },
  {
   "cell_type": "code",
   "execution_count": 76,
   "metadata": {},
   "outputs": [
    {
     "data": {
      "image/png": "[encoded data removed]",
      "text/plain": [
       "<Figure size 1000x600 with 1 Axes>"
      ]
     },
     "metadata": {},
     "output_type": "display_data"
    }
   ],
   "source": [
    "# Get feature importances\n",
    "importancesfl = rfcfl_model.featureImportances\n",
    "\n",
    "# Get feature names\n",
    "feature_namesfl = ['Medu',\n",
    " 'Fedu',\n",
    " 'reason_num',\n",
    " 'schoolsup_num',\n",
    " 'famsup_num',\n",
    " 'paid_num',\n",
    " 'activities_num',\n",
    " 'freetime',\n",
    " 'goout',\n",
    " 'Walc',\n",
    " 'absences']\n",
    "\n",
    "# Plot feature importances\n",
    "plt.figure(figsize=(10, 6))\n",
    "plt.barh(range(len(importancesfl)), importancesfl, align='center')\n",
    "plt.yticks(range(len(importancesfl)), feature_namesfl)\n",
    "plt.xlabel('Importance')\n",
    "plt.ylabel('Feature')\n",
    "plt.title('Feature Importances')\n",
    "plt.show()"
   ]
  },
  {
   "cell_type": "code",
   "execution_count": 77,
   "metadata": {},
   "outputs": [
    {
     "name": "stdout",
     "output_type": "stream",
     "text": [
      "+----+----+----------+--------+-------------+----------+--------+--------------+----------+--------+-----+----+--------+--------------------+\n",
      "|Medu|Fedu|reason_num|failures|schoolsup_num|famsup_num|paid_num|activities_num|higher_num|freetime|goout|Walc|absences|            features|\n",
      "+----+----+----------+--------+-------------+----------+--------+--------------+----------+--------+-----+----+--------+--------------------+\n",
      "|   1|   1|        99|       3|            1|         0|       1|             0|         1|       3|    2|   3|      10|[1.0,1.0,99.0,1.0...|\n",
      "|   3|   2|         3|       3|            0|         1|       0|             1|         1|       5|    5|   4|      16|[3.0,2.0,3.0,0.0,...|\n",
      "|   3|   2|         1|       3|            0|         1|       0|             0|         1|       3|    2|   1|       0|[3.0,2.0,1.0,0.0,...|\n",
      "|   2|   1|         1|       3|            1|         1|       0|             1|         0|       5|    1|   1|       2|[2.0,1.0,1.0,1.0,...|\n",
      "|   0|   1|         3|       3|            0|         1|       0|             0|         0|       4|    2|   1|       2|[0.0,1.0,3.0,0.0,...|\n",
      "|   2|   1|         1|       3|            0|         1|       0|             0|         1|       4|    5|   2|       0|[2.0,1.0,1.0,0.0,...|\n",
      "|   2|   1|         3|       3|            0|         0|       0|             0|         1|       5|    5|   5|       0|(11,[0,1,2,7,8,9]...|\n",
      "|   1|   1|         3|       3|            0|         0|       0|             0|         0|       3|    5|   5|       0|(11,[0,1,2,7,8,9]...|\n",
      "|   3|   2|         1|       3|            0|         1|       0|             0|         0|       5|    4|   1|       0|[3.0,2.0,1.0,0.0,...|\n",
      "|   1|   1|         3|       3|            0|         1|       0|             1|         1|       2|    5|   5|       6|[1.0,1.0,3.0,0.0,...|\n",
      "|   1|   1|         3|       3|            0|         0|       0|             1|         0|       3|    5|   5|       0|[1.0,1.0,3.0,0.0,...|\n",
      "|   1|   3|         1|       3|            0|         0|       0|             1|         1|       3|    5|   1|       0|[1.0,3.0,1.0,0.0,...|\n",
      "|   3|   1|         3|       3|            0|         1|       1|             0|         1|       3|    3|   2|       5|[3.0,1.0,3.0,0.0,...|\n",
      "|   3|   1|        99|       3|            0|         0|       0|             0|         0|       4|    5|   5|      16|[3.0,1.0,99.0,0.0...|\n",
      "|   1|   1|         1|       3|            0|         0|       0|             0|         1|       4|    4|   3|       8|[1.0,1.0,1.0,0.0,...|\n",
      "|   1|   1|         3|       3|            0|         0|       0|             0|         1|       5|    3|   3|       3|[1.0,1.0,3.0,0.0,...|\n",
      "|   2|   2|         1|       2|            0|         1|       1|             0|         1|       2|    2|   3|      14|[2.0,2.0,1.0,0.0,...|\n",
      "|   1|   1|         2|       2|            1|         1|       0|             0|         1|       3|    4|   4|       2|[1.0,1.0,2.0,1.0,...|\n",
      "|   4|   4|         2|       2|            0|         0|       1|             0|         1|       4|    4|   3|       6|[4.0,4.0,2.0,0.0,...|\n",
      "|   2|   2|         2|       2|            0|         1|       0|             1|         1|       3|    3|   2|       0|[2.0,2.0,2.0,0.0,...|\n",
      "+----+----+----------+--------+-------------+----------+--------+--------------+----------+--------+-----+----+--------+--------------------+\n",
      "only showing top 20 rows\n",
      "\n"
     ]
    }
   ],
   "source": [
    "finaldf.orderBy(col('failures').desc()).show()"
   ]
  },
  {
   "cell_type": "code",
   "execution_count": 78,
   "metadata": {},
   "outputs": [],
   "source": [
    "finaldf_new = rfcfl_model.transform(rfcdf)"
   ]
  },
  {
   "cell_type": "code",
   "execution_count": 79,
   "metadata": {},
   "outputs": [
    {
     "name": "stdout",
     "output_type": "stream",
     "text": [
      "+--------+--------------------+--------------------+--------------------+----------+\n",
      "|failures|            features|       rawPrediction|         probability|prediction|\n",
      "+--------+--------------------+--------------------+--------------------+----------+\n",
      "|       0|[4.0,4.0,3.0,1.0,...|[246.0,22.0,12.0,...|[0.86925795053003...|       0.0|\n",
      "|       0|[1.0,1.0,3.0,0.0,...| [46.0,12.0,3.0,5.0]|[0.69696969696969...|       0.0|\n",
      "|       3|[1.0,1.0,99.0,1.0...| [46.0,12.0,3.0,5.0]|[0.69696969696969...|       0.0|\n",
      "|       0|[4.0,2.0,1.0,0.0,...|[246.0,22.0,12.0,...|[0.86925795053003...|       0.0|\n",
      "|       0|[3.0,3.0,1.0,0.0,...|[246.0,22.0,12.0,...|[0.86925795053003...|       0.0|\n",
      "|       0|[4.0,3.0,2.0,0.0,...|[246.0,22.0,12.0,...|[0.86925795053003...|       0.0|\n",
      "|       0|(11,[0,1,2,7,8,9]...|[246.0,22.0,12.0,...|[0.86925795053003...|       0.0|\n",
      "|       0|[4.0,4.0,1.0,1.0,...|[246.0,22.0,12.0,...|[0.86925795053003...|       0.0|\n",
      "|       0|[3.0,2.0,1.0,0.0,...|[246.0,22.0,12.0,...|[0.86925795053003...|       0.0|\n",
      "|       0|[3.0,4.0,1.0,0.0,...|[246.0,22.0,12.0,...|[0.86925795053003...|       0.0|\n",
      "|       0|[4.0,4.0,2.0,0.0,...|[246.0,22.0,12.0,...|[0.86925795053003...|       0.0|\n",
      "|       0|[2.0,1.0,2.0,0.0,...| [46.0,12.0,3.0,5.0]|[0.69696969696969...|       0.0|\n",
      "|       0|[4.0,4.0,3.0,0.0,...|[246.0,22.0,12.0,...|[0.86925795053003...|       0.0|\n",
      "|       0|[4.0,3.0,3.0,0.0,...|[246.0,22.0,12.0,...|[0.86925795053003...|       0.0|\n",
      "|       0|[2.0,2.0,1.0,0.0,...|[246.0,22.0,12.0,...|[0.86925795053003...|       0.0|\n",
      "|       0|[4.0,4.0,1.0,0.0,...|[246.0,22.0,12.0,...|[0.86925795053003...|       0.0|\n",
      "|       0|[4.0,4.0,2.0,0.0,...|[246.0,22.0,12.0,...|[0.86925795053003...|       0.0|\n",
      "|       0|[3.0,3.0,2.0,1.0,...|[246.0,22.0,12.0,...|[0.86925795053003...|       0.0|\n",
      "|       3|[3.0,2.0,3.0,0.0,...|   [0.0,0.0,0.0,2.0]|   [0.0,0.0,0.0,1.0]|       3.0|\n",
      "|       0|[4.0,3.0,1.0,0.0,...|[246.0,22.0,12.0,...|[0.86925795053003...|       0.0|\n",
      "+--------+--------------------+--------------------+--------------------+----------+\n",
      "only showing top 20 rows\n",
      "\n"
     ]
    }
   ],
   "source": [
    "finaldf_new.show()"
   ]
  },
  {
   "cell_type": "code",
   "execution_count": 80,
   "metadata": {},
   "outputs": [
    {
     "name": "stdout",
     "output_type": "stream",
     "text": [
      "Confusion Matrix:\n",
      "prediction  0.0  1.0  2.0  3.0\n",
      "failures                      \n",
      "0           312    0    0    0\n",
      "1            39   11    0    0\n",
      "2            15    0    2    0\n",
      "3             8    1    0    7\n"
     ]
    }
   ],
   "source": [
    "# Convert predictions DataFrame to pandas DataFrame\n",
    "predictions_pddf = finaldf_new.select(\"failures\", \"prediction\").toPandas()\n",
    "\n",
    "# Calculate confusion matrix using crosstab\n",
    "conf_matrix_pddf = pd.crosstab(predictions_pddf['failures'], predictions_pddf['prediction'])\n",
    "\n",
    "# Convert index and columns to string for better visual representation\n",
    "conf_matrix_pddf.index = conf_matrix_pddf.index.astype(str)\n",
    "conf_matrix_pddf.columns = conf_matrix_pddf.columns.astype(str)\n",
    "\n",
    "# Display confusion matrix\n",
    "print(\"Confusion Matrix:\")\n",
    "print(conf_matrix_pddf)"
   ]
  },
  {
   "cell_type": "code",
   "execution_count": 86,
   "metadata": {},
   "outputs": [],
   "source": [
    "assd = output2.drop('features')\n",
    "assd.write.csv('/Users/alanfayed/Library/CloudStorage/OneDrive-Personal/Downloads/new_data.csv', header=True)"
   ]
  },
  {
   "cell_type": "code",
   "execution_count": null,
   "metadata": {},
   "outputs": [],
   "source": []
  }
 ],
 "metadata": {
  "kernelspec": {
   "display_name": "Python 3 (ipykernel)",
   "language": "python",
   "name": "python3"
  },
  "language_info": {
   "codemirror_mode": {
    "name": "ipython",
    "version": 3
   },
   "file_extension": ".py",
   "mimetype": "text/x-python",
   "name": "python",
   "nbconvert_exporter": "python",
   "pygments_lexer": "ipython3",
   "version": "3.12.0"
  }
 },
 "nbformat": 4,
 "nbformat_minor": 4
}
